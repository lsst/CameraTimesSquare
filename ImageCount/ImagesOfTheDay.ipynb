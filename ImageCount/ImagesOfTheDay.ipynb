{
 "cells": [
  {
   "cell_type": "code",
   "execution_count": 34,
   "id": "22ea6162-9d49-4a37-8e17-3ee300fb2248",
   "metadata": {
    "execution": {
     "iopub.execute_input": "2024-10-13T17:59:12.627120Z",
     "iopub.status.busy": "2024-10-13T17:59:12.626611Z",
     "iopub.status.idle": "2024-10-13T17:59:12.629331Z",
     "shell.execute_reply": "2024-10-13T17:59:12.628898Z",
     "shell.execute_reply.started": "2024-10-13T17:59:12.627104Z"
    }
   },
   "outputs": [],
   "source": [
    "dayObs = 'Today'"
   ]
  },
  {
   "cell_type": "code",
   "execution_count": 35,
   "id": "8adabb98-022e-4749-b92d-02644a5fb4f3",
   "metadata": {
    "execution": {
     "iopub.execute_input": "2024-10-13T17:59:12.912501Z",
     "iopub.status.busy": "2024-10-13T17:59:12.912359Z",
     "iopub.status.idle": "2024-10-13T17:59:12.914776Z",
     "shell.execute_reply": "2024-10-13T17:59:12.914401Z",
     "shell.execute_reply.started": "2024-10-13T17:59:12.912489Z"
    }
   },
   "outputs": [],
   "source": [
    "from lsst.daf.butler import Butler\n",
    "from astropy.table import Table\n",
    "from astropy.time import Time, TimeDelta"
   ]
  },
  {
   "cell_type": "code",
   "execution_count": 38,
   "id": "51cabde2-cf08-49e3-94f1-c0da529c23b0",
   "metadata": {
    "execution": {
     "iopub.execute_input": "2024-10-13T17:59:25.327165Z",
     "iopub.status.busy": "2024-10-13T17:59:25.326865Z",
     "iopub.status.idle": "2024-10-13T17:59:25.330646Z",
     "shell.execute_reply": "2024-10-13T17:59:25.330293Z",
     "shell.execute_reply.started": "2024-10-13T17:59:25.327144Z"
    }
   },
   "outputs": [
    {
     "data": {
      "text/plain": [
       "'20241013'"
      ]
     },
     "execution_count": 38,
     "metadata": {},
     "output_type": "execute_result"
    }
   ],
   "source": [
    "if dayObs=='Today':\n",
    "    dayObs = (Time.now() - TimeDelta(0.5, format='jd')).iso[:10].replace('-','')\n",
    "dayObs.replace('-','')"
   ]
  },
  {
   "cell_type": "code",
   "execution_count": 32,
   "id": "509dbd52-5608-48bb-a07a-46671e47b83f",
   "metadata": {
    "execution": {
     "iopub.execute_input": "2024-10-13T17:58:58.148599Z",
     "iopub.status.busy": "2024-10-13T17:58:58.148425Z",
     "iopub.status.idle": "2024-10-13T17:58:58.281098Z",
     "shell.execute_reply": "2024-10-13T17:58:58.280654Z",
     "shell.execute_reply.started": "2024-10-13T17:58:58.148587Z"
    }
   },
   "outputs": [],
   "source": [
    "butler = Butler('embargo_new', collections=[\n",
    "    'LSSTCam/raw/all',\n",
    "    'LSSTCam/calib/unbounded',\n",
    "    'LSSTCam/photodiode'\n",
    "])"
   ]
  },
  {
   "cell_type": "code",
   "execution_count": 33,
   "id": "8d2f2260-f45e-4e01-af4a-c1f1a9183577",
   "metadata": {
    "execution": {
     "iopub.execute_input": "2024-10-13T17:58:58.740538Z",
     "iopub.status.busy": "2024-10-13T17:58:58.740241Z",
     "iopub.status.idle": "2024-10-13T17:58:58.780110Z",
     "shell.execute_reply": "2024-10-13T17:58:58.779596Z",
     "shell.execute_reply.started": "2024-10-13T17:58:58.740523Z"
    },
    "scrolled": true
   },
   "outputs": [
    {
     "ename": "ValueError",
     "evalue": "Arguments \"names\" and \"dtype\" must match number of columns",
     "output_type": "error",
     "traceback": [
      "\u001b[0;31m---------------------------------------------------------------------------\u001b[0m",
      "\u001b[0;31mValueError\u001b[0m                                Traceback (most recent call last)",
      "Cell \u001b[0;32mIn[33], line 8\u001b[0m\n\u001b[1;32m      6\u001b[0m     exposureList\u001b[38;5;241m.\u001b[39mappend([record\u001b[38;5;241m.\u001b[39mid, record, nimage, hasPD])\n\u001b[1;32m      7\u001b[0m exposureList\u001b[38;5;241m.\u001b[39msort(key\u001b[38;5;241m=\u001b[39m\u001b[38;5;28;01mlambda\u001b[39;00m x: x[\u001b[38;5;241m0\u001b[39m])\n\u001b[0;32m----> 8\u001b[0m table \u001b[38;5;241m=\u001b[39m \u001b[43mTable\u001b[49m\u001b[43m(\u001b[49m\u001b[43mrows\u001b[49m\u001b[38;5;241;43m=\u001b[39;49m\u001b[43m[\u001b[49m\u001b[43m \u001b[49m\u001b[43m(\u001b[49m\n\u001b[1;32m      9\u001b[0m \u001b[43m            \u001b[49m\u001b[43mrecord\u001b[49m\u001b[38;5;241;43m.\u001b[39;49m\u001b[43mobs_id\u001b[49m\u001b[43m,\u001b[49m\n\u001b[1;32m     10\u001b[0m \u001b[43m            \u001b[49m\u001b[43mrecord\u001b[49m\u001b[38;5;241;43m.\u001b[39;49m\u001b[43mtimespan\u001b[49m\u001b[38;5;241;43m.\u001b[39;49m\u001b[43mbegin\u001b[49m\u001b[38;5;241;43m.\u001b[39;49m\u001b[43miso\u001b[49m\u001b[43m,\u001b[49m\n\u001b[1;32m     11\u001b[0m \u001b[43m            \u001b[49m\u001b[43mrecord\u001b[49m\u001b[38;5;241;43m.\u001b[39;49m\u001b[43mseq_num\u001b[49m\u001b[43m,\u001b[49m\n\u001b[1;32m     12\u001b[0m \u001b[43m            \u001b[49m\u001b[43mrecord\u001b[49m\u001b[38;5;241;43m.\u001b[39;49m\u001b[43mobservation_type\u001b[49m\u001b[43m,\u001b[49m\n\u001b[1;32m     13\u001b[0m \u001b[43m            \u001b[49m\u001b[43mrecord\u001b[49m\u001b[38;5;241;43m.\u001b[39;49m\u001b[43mscience_program\u001b[49m\u001b[43m,\u001b[49m\n\u001b[1;32m     14\u001b[0m \u001b[43m            \u001b[49m\u001b[43mrecord\u001b[49m\u001b[38;5;241;43m.\u001b[39;49m\u001b[43mobservation_reason\u001b[49m\u001b[43m,\u001b[49m\n\u001b[1;32m     15\u001b[0m \u001b[43m            \u001b[49m\u001b[43mrecord\u001b[49m\u001b[38;5;241;43m.\u001b[39;49m\u001b[43mexposure_time\u001b[49m\u001b[43m,\u001b[49m\n\u001b[1;32m     16\u001b[0m \u001b[43m            \u001b[49m\u001b[43mrecord\u001b[49m\u001b[38;5;241;43m.\u001b[39;49m\u001b[43mphysical_filter\u001b[49m\u001b[43m,\u001b[49m\n\u001b[1;32m     17\u001b[0m \u001b[43m            \u001b[49m\u001b[43mnimage\u001b[49m\u001b[43m,\u001b[49m\n\u001b[1;32m     18\u001b[0m \u001b[43m            \u001b[49m\u001b[43mhasPD\u001b[49m\u001b[43m,\u001b[49m\n\u001b[1;32m     19\u001b[0m \u001b[43m            \u001b[49m\u001b[38;5;124;43mf\u001b[39;49m\u001b[38;5;124;43m'\u001b[39;49m\u001b[38;5;124;43m<a href=http://lsstcam-mcm.cp.lsst.org/FITSInfo/view.html?image=\u001b[39;49m\u001b[38;5;132;43;01m{\u001b[39;49;00m\u001b[43mrecord\u001b[49m\u001b[38;5;241;43m.\u001b[39;49m\u001b[43mobs_id\u001b[49m\u001b[38;5;132;43;01m}\u001b[39;49;00m\u001b[38;5;124;43m>img</a>\u001b[39;49m\u001b[38;5;124;43m'\u001b[39;49m\n\u001b[1;32m     20\u001b[0m \u001b[43m                     \u001b[49m\u001b[43m)\u001b[49m\n\u001b[1;32m     21\u001b[0m \u001b[43m            \u001b[49m\u001b[38;5;28;43;01mfor\u001b[39;49;00m\u001b[43m \u001b[49m\u001b[43m[\u001b[49m\u001b[38;5;28;43mid\u001b[39;49m\u001b[43m,\u001b[49m\u001b[43mrecord\u001b[49m\u001b[43m,\u001b[49m\u001b[43mnimage\u001b[49m\u001b[43m,\u001b[49m\u001b[43m \u001b[49m\u001b[43mhasPD\u001b[49m\u001b[43m]\u001b[49m\u001b[43m \u001b[49m\u001b[38;5;129;43;01min\u001b[39;49;00m\u001b[43m \u001b[49m\u001b[43mexposureList\u001b[49m\u001b[43m \u001b[49m\u001b[43m]\u001b[49m\u001b[43m,\u001b[49m\u001b[43m \u001b[49m\n\u001b[1;32m     22\u001b[0m \u001b[43m            \u001b[49m\u001b[43mnames\u001b[49m\u001b[38;5;241;43m=\u001b[39;49m\u001b[43m[\u001b[49m\n\u001b[1;32m     23\u001b[0m \u001b[43m                   \u001b[49m\u001b[38;5;124;43m'\u001b[39;49m\u001b[38;5;124;43mobs_id\u001b[39;49m\u001b[38;5;124;43m'\u001b[39;49m\u001b[43m,\u001b[49m\u001b[43m \u001b[49m\u001b[38;5;124;43m'\u001b[39;49m\u001b[38;5;124;43mtime\u001b[39;49m\u001b[38;5;124;43m'\u001b[39;49m\u001b[43m,\u001b[49m\u001b[43m \u001b[49m\u001b[38;5;124;43m'\u001b[39;49m\u001b[38;5;124;43mseqnum\u001b[39;49m\u001b[38;5;124;43m'\u001b[39;49m\u001b[43m,\u001b[49m\u001b[43m \u001b[49m\u001b[38;5;124;43m'\u001b[39;49m\u001b[38;5;124;43mobservation_type\u001b[39;49m\u001b[38;5;124;43m'\u001b[39;49m\u001b[43m,\u001b[49m\n\u001b[1;32m     24\u001b[0m \u001b[43m                   \u001b[49m\u001b[38;5;124;43m'\u001b[39;49m\u001b[38;5;124;43mscience_program\u001b[39;49m\u001b[38;5;124;43m'\u001b[39;49m\u001b[43m,\u001b[49m\u001b[43m \u001b[49m\u001b[38;5;124;43m'\u001b[39;49m\u001b[38;5;124;43mobservation_reason\u001b[39;49m\u001b[38;5;124;43m'\u001b[39;49m\u001b[43m,\u001b[49m\u001b[38;5;124;43m'\u001b[39;49m\u001b[38;5;124;43mexposure_time\u001b[39;49m\u001b[38;5;124;43m'\u001b[39;49m\u001b[43m,\u001b[49m\n\u001b[1;32m     25\u001b[0m \u001b[43m                   \u001b[49m\u001b[38;5;124;43m'\u001b[39;49m\u001b[38;5;124;43mphysical_filter\u001b[39;49m\u001b[38;5;124;43m'\u001b[39;49m\u001b[43m,\u001b[49m\u001b[43m \u001b[49m\u001b[38;5;124;43m'\u001b[39;49m\u001b[38;5;124;43mnimage\u001b[39;49m\u001b[38;5;124;43m'\u001b[39;49m\u001b[43m,\u001b[49m\u001b[43m \u001b[49m\u001b[38;5;124;43m'\u001b[39;49m\u001b[38;5;124;43mhasPD\u001b[39;49m\u001b[38;5;124;43m'\u001b[39;49m\u001b[43m,\u001b[49m\u001b[43m \u001b[49m\u001b[38;5;124;43m'\u001b[39;49m\u001b[38;5;124;43mImageViewer\u001b[39;49m\u001b[38;5;124;43m'\u001b[39;49m\n\u001b[1;32m     26\u001b[0m \u001b[43m                  \u001b[49m\u001b[43m]\u001b[49m\u001b[43m)\u001b[49m\n\u001b[1;32m     27\u001b[0m table\u001b[38;5;241m.\u001b[39mpprint_all()\n",
      "File \u001b[0;32m/opt/lsst/software/stack/conda/envs/lsst-scipipe-9.0.0/lib/python3.11/site-packages/astropy/table/table.py:888\u001b[0m, in \u001b[0;36mTable.__init__\u001b[0;34m(self, data, masked, names, dtype, meta, copy, rows, copy_indices, units, descriptions, **kwargs)\u001b[0m\n\u001b[1;32m    884\u001b[0m     names \u001b[38;5;241m=\u001b[39m default_names \u001b[38;5;129;01mor\u001b[39;00m [\u001b[38;5;28;01mNone\u001b[39;00m] \u001b[38;5;241m*\u001b[39m n_cols\n\u001b[1;32m    886\u001b[0m names \u001b[38;5;241m=\u001b[39m [\u001b[38;5;28;01mNone\u001b[39;00m \u001b[38;5;28;01mif\u001b[39;00m name \u001b[38;5;129;01mis\u001b[39;00m \u001b[38;5;28;01mNone\u001b[39;00m \u001b[38;5;28;01melse\u001b[39;00m \u001b[38;5;28mstr\u001b[39m(name) \u001b[38;5;28;01mfor\u001b[39;00m name \u001b[38;5;129;01min\u001b[39;00m names]\n\u001b[0;32m--> 888\u001b[0m \u001b[38;5;28;43mself\u001b[39;49m\u001b[38;5;241;43m.\u001b[39;49m\u001b[43m_check_names_dtype\u001b[49m\u001b[43m(\u001b[49m\u001b[43mnames\u001b[49m\u001b[43m,\u001b[49m\u001b[43m \u001b[49m\u001b[43mdtype\u001b[49m\u001b[43m,\u001b[49m\u001b[43m \u001b[49m\u001b[43mn_cols\u001b[49m\u001b[43m)\u001b[49m\n\u001b[1;32m    890\u001b[0m \u001b[38;5;66;03m# Finally do the real initialization\u001b[39;00m\n\u001b[1;32m    891\u001b[0m init_func(data, names, dtype, n_cols, copy)\n",
      "File \u001b[0;32m/opt/lsst/software/stack/conda/envs/lsst-scipipe-9.0.0/lib/python3.11/site-packages/astropy/table/table.py:1177\u001b[0m, in \u001b[0;36mTable._check_names_dtype\u001b[0;34m(self, names, dtype, n_cols)\u001b[0m\n\u001b[1;32m   1174\u001b[0m         \u001b[38;5;28;01mraise\u001b[39;00m \u001b[38;5;167;01mValueError\u001b[39;00m(\u001b[38;5;124mf\u001b[39m\u001b[38;5;124m\"\u001b[39m\u001b[38;5;132;01m{\u001b[39;00minp_str\u001b[38;5;132;01m}\u001b[39;00m\u001b[38;5;124m must be a list or None\u001b[39m\u001b[38;5;124m\"\u001b[39m)\n\u001b[1;32m   1176\u001b[0m \u001b[38;5;28;01mif\u001b[39;00m \u001b[38;5;28mlen\u001b[39m(names) \u001b[38;5;241m!=\u001b[39m n_cols \u001b[38;5;129;01mor\u001b[39;00m \u001b[38;5;28mlen\u001b[39m(dtype) \u001b[38;5;241m!=\u001b[39m n_cols:\n\u001b[0;32m-> 1177\u001b[0m     \u001b[38;5;28;01mraise\u001b[39;00m \u001b[38;5;167;01mValueError\u001b[39;00m(\n\u001b[1;32m   1178\u001b[0m         \u001b[38;5;124m'\u001b[39m\u001b[38;5;124mArguments \u001b[39m\u001b[38;5;124m\"\u001b[39m\u001b[38;5;124mnames\u001b[39m\u001b[38;5;124m\"\u001b[39m\u001b[38;5;124m and \u001b[39m\u001b[38;5;124m\"\u001b[39m\u001b[38;5;124mdtype\u001b[39m\u001b[38;5;124m\"\u001b[39m\u001b[38;5;124m must match number of columns\u001b[39m\u001b[38;5;124m'\u001b[39m\n\u001b[1;32m   1179\u001b[0m     )\n",
      "\u001b[0;31mValueError\u001b[0m: Arguments \"names\" and \"dtype\" must match number of columns"

     ]
    }
   ],
   "source": [
    "exposureList = []\n",
    "for record in butler.registry.queryDimensionRecords(\"exposure\", \n",
    "                    where=f\"exposure.day_obs={dayObs} and instrument='LSSTCam'\"):\n",
    "    nimage=len(list(butler.registry.queryDatasets('raw',dataId=record.dataId)))\n",
    "    hasPD=len(list(butler.registry.queryDatasets('photodiode',dataId=record.dataId)))\n",
    "    exposureList.append([record.id, record, nimage, hasPD])\n",
    "exposureList.sort(key=lambda x: x[0])\n",
    "table = Table(rows=[ (\n",
    "            record.obs_id,\n",
    "            record.timespan.begin.iso,\n",
    "            record.seq_num,\n",
    "            record.observation_type,\n",
    "            record.science_program,\n",
    "            record.observation_reason,\n",
    "            record.exposure_time,\n",
    "            record.physical_filter,\n",
    "            nimage,\n",
    "            hasPD,\n",
    "            f'http://lsstcam-mcm.cp.lsst.org/FITSInfo/view.html?image={record.obs_id}'\n",
    "                     )\n",
    "            for [id,record,nimage, hasPD] in exposureList ], \n",
    "            names=[\n",
    "                   'obs_id', 'time', 'seqnum', 'observation_type',\n",
    "                   'science_program', 'observation_reason','exposure_time',\n",
    "                   'physical_filter', 'nimage', 'hasPD', 'ImageViewer'\n",
    "                  ])\n",
    "table.pprint_all()"
   ]
  },
  {
   "cell_type": "code",
   "execution_count": null,
   "id": "7622b094-57d1-4050-96ff-1390308b9175",
   "metadata": {},
   "outputs": [],
   "source": []
  },
  {
   "cell_type": "code",
   "execution_count": null,
   "id": "8090416e-0543-4d4f-b08b-6b295bf3c0d9",
   "metadata": {},
   "outputs": [],
   "source": []
  }
 ],
 "metadata": {
  "kernelspec": {
   "display_name": "LSST",
   "language": "python",
   "name": "lsst"
  },
  "language_info": {
   "codemirror_mode": {
    "name": "ipython",
    "version": 3
   },
   "file_extension": ".py",
   "mimetype": "text/x-python",
   "name": "python",
   "nbconvert_exporter": "python",
   "pygments_lexer": "ipython3",
   "version": "3.11.9"
  }
 },
 "nbformat": 4,
 "nbformat_minor": 5
}
