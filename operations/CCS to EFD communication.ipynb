{
 "cells": [
  {
   "cell_type": "code",
   "execution_count": 1,
   "id": "137cef0b-3206-432e-af90-8545ebb9c3a9",
   "metadata": {
    "execution": {
     "iopub.execute_input": "2025-08-20T23:07:10.181130Z",
     "iopub.status.busy": "2025-08-20T23:07:10.180991Z",
     "iopub.status.idle": "2025-08-20T23:07:10.183613Z",
     "shell.execute_reply": "2025-08-20T23:07:10.183218Z",
     "shell.execute_reply.started": "2025-08-20T23:07:10.181112Z"
    }
   },
   "outputs": [],
   "source": [
    "start = \"2025-05-01\"\n",
    "duration = 1"
   ]
  },
  {
   "cell_type": "code",
   "execution_count": 2,
   "id": "b8a7182a-819d-41e0-b93f-4dfcd73ff406",
   "metadata": {
    "execution": {
     "iopub.execute_input": "2025-08-20T23:07:10.184404Z",
     "iopub.status.busy": "2025-08-20T23:07:10.184264Z",
     "iopub.status.idle": "2025-08-20T23:07:26.036838Z",
     "shell.execute_reply": "2025-08-20T23:07:26.036340Z",
     "shell.execute_reply.started": "2025-08-20T23:07:10.184389Z"
    }
   },
   "outputs": [],
   "source": [
    "from lsst.ts.xml.component_info import ComponentInfo\n",
    "from lsst.summit.utils.efdUtils import makeEfdClient\n",
    "from astropy.time import Time,TimeDelta\n",
    "import os"
   ]
  },
  {
   "cell_type": "code",
   "execution_count": 3,
   "id": "df30c980-8abf-4a78-ae36-62d559e3e350",
   "metadata": {
    "execution": {
     "iopub.execute_input": "2025-08-20T23:07:26.038748Z",
     "iopub.status.busy": "2025-08-20T23:07:26.037853Z",
     "iopub.status.idle": "2025-08-20T23:07:26.902050Z",
     "shell.execute_reply": "2025-08-20T23:07:26.901237Z",
     "shell.execute_reply.started": "2025-08-20T23:07:26.038711Z"
    }
   },
   "outputs": [
    {
     "name": "stderr",
     "output_type": "stream",
     "text": [
      "WARNING: TimeDeltaMissingUnitWarning: Numerical value without unit or explicit format passed to TimeDelta, assuming days [astropy.time.core]\n"
     ]
    },
    {
     "data": {
      "text/html": [
       "<pre style=\"margin: 0.1em;\n",
       "padding-left: 0.25em;\n",
       "border-left-style: solid;\n",
       "font-family: var(--jp-code-font-family);\n",
       "font-size: var(--jp-code-font-size);\n",
       "line-height: var(--jp-code-line-height);\n",
       "\"><span style=\"color: var(--jp-warn-color2)\">astroquery</span> <span style=\"color: var(--jp-warn-color0)\">WARNING</span>: TimeDeltaMissingUnitWarning: Numerical value without unit or explicit format passed to TimeDelta, assuming days</pre>"
      ],
      "text/plain": [
       "<IPython.core.display.HTML object>"
      ]
     },
     "metadata": {},
     "output_type": "display_data"
    },
    {
     "name": "stdout",
     "output_type": "stream",
     "text": [
      "483 had no topic or topic contained no data.\n",
      "0 queries returned data.\n",
      "0 queries returned no data\n"
     ]
    }
   ],
   "source": [
    "efd_client = makeEfdClient()\n",
    "mtcamera_info = ComponentInfo(\"MTCamera\", \"sal\")\n",
    "\n",
    "start = Time(start, scale=\"utc\")\n",
    "end = start + TimeDelta(duration,\"d\")\n",
    "with_data = 0\n",
    "has_data = open('./existing_data.txt', 'w')\n",
    "no_data = 0\n",
    "missing_data = open('./missing_data.txt', 'w')\n",
    "no_topic = 0\n",
    "missing_topics = open('./missing_topic.txt', 'w')\n",
    "data_dic = {}\n",
    "\n",
    "for key in mtcamera_info.topics.keys():\n",
    "    topic_info = mtcamera_info.topics[key]\n",
    "    topic = topic_info.avro_subject.replace('-value', '')\n",
    "    try:\n",
    "        data = getEfdData(\n",
    "            client=efd_client,\n",
    "            topic=topic,\n",
    "            columns=[\"*\"],\n",
    "            begin=start,\n",
    "            end=end)\n",
    "    except:\n",
    "        no_topic += 1\n",
    "        missing_topics.write(topic+'\\n')\n",
    "        continue\n",
    "    if len(data) == 0:\n",
    "        no_topic += 1\n",
    "        missing_topics.write(topic+'\\n')\n",
    "        continue\n",
    "    for name in topic_info.fields.keys():\n",
    "        try:\n",
    "            len_data = len(data[name])\n",
    "        except:\n",
    "            no_data += 1\n",
    "            missing_data.write(f'{topic}.{name}\\n')\n",
    "            continue\n",
    "        if len_data == 0:\n",
    "            no_data += 1\n",
    "        else:\n",
    "            has_data.write(f'{topic}.{name}\\n')\n",
    "            with_data += 1\n",
    "print(f\"{no_topic} had no topic or topic contained no data.\")\n",
    "print(f\"{with_data} queries returned data.\")\n",
    "print(f\"{no_data} queries returned no data\")\n",
    "has_data.close()\n",
    "missing_data.close()\n",
    "missing_topics.close()\n",
    "os.remove('./existing_data.txt')\n",
    "os.remove('./missing_data.txt')\n",
    "os.remove('./missing_topic.txt')"
   ]
  },
  {
   "cell_type": "code",
   "execution_count": null,
   "id": "05ea86d4-c513-4045-a08f-af7ecb2ed68e",
   "metadata": {},
   "outputs": [],
   "source": []
  }
 ],
 "metadata": {
  "kernelspec": {
   "display_name": "LSST",
   "language": "python",
   "name": "lsst"
  },
  "language_info": {
   "codemirror_mode": {
    "name": "ipython",
    "version": 3
   },
   "file_extension": ".py",
   "mimetype": "text/x-python",
   "name": "python",
   "nbconvert_exporter": "python",
   "pygments_lexer": "ipython3",
   "version": "3.12.11"
  }
 },
 "nbformat": 4,
 "nbformat_minor": 5
}
