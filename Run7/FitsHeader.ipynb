{
 "cells": [
  {
   "cell_type": "code",
   "execution_count": 1,
   "id": "6ccbcf86-2eb7-462f-9dc7-6fc1ca1b36fc",
   "metadata": {
    "execution": {
     "iopub.execute_input": "2024-11-04T15:29:28.478866Z",
     "iopub.status.busy": "2024-11-04T15:29:28.478362Z",
     "iopub.status.idle": "2024-11-04T15:29:28.480988Z",
     "shell.execute_reply": "2024-11-04T15:29:28.480629Z",
     "shell.execute_reply.started": "2024-11-04T15:29:28.478849Z"
    }
   },
   "outputs": [],
   "source": [
    "expid='MC_C_20241028_000125'\n",
    "sensor='R10_S00'"
   ]
  },
  {
   "cell_type": "code",
   "execution_count": 2,
   "id": "bddb2c1e-db05-462c-9009-58e8e923bc55",
   "metadata": {
    "execution": {
     "iopub.execute_input": "2024-11-04T15:29:28.718555Z",
     "iopub.status.busy": "2024-11-04T15:29:28.718415Z",
     "iopub.status.idle": "2024-11-04T15:29:29.465881Z",
     "shell.execute_reply": "2024-11-04T15:29:29.465451Z",
     "shell.execute_reply.started": "2024-11-04T15:29:28.718543Z"
    }
   },
   "outputs": [],
   "source": [
    "from lsst.daf.butler import Butler\n",
    "from astropy.io import fits"
   ]
  },
  {
   "cell_type": "code",
   "execution_count": 3,
   "id": "45002735-c850-40bc-853a-4655982095b0",
   "metadata": {
    "execution": {
     "iopub.execute_input": "2024-11-04T15:29:29.466714Z",
     "iopub.status.busy": "2024-11-04T15:29:29.466581Z",
     "iopub.status.idle": "2024-11-04T15:29:30.105795Z",
     "shell.execute_reply": "2024-11-04T15:29:30.105323Z",
     "shell.execute_reply.started": "2024-11-04T15:29:29.466701Z"
    }
   },
   "outputs": [
    {
     "data": {
      "text/html": [
       "<pre style=\"margin: 0.1em;\n",
       "padding-left: 0.25em;\n",
       "border-left-style: solid;\n",
       "font-family: var(--jp-code-font-family);\n",
       "font-size: var(--jp-code-font-size);\n",
       "line-height: var(--jp-code-line-height);\n",
       "\"><span style=\"color: var(--jp-warn-color2)\">botocore.credentials</span> <span style=\"color: var(--jp-info-color0)\">INFO</span>: Found credentials in shared credentials file: /home/y/youtsumi/.lsst/aws-credentials.ini</pre>"
      ],
      "text/plain": [
       "<IPython.core.display.HTML object>"
      ]
     },
     "metadata": {},
     "output_type": "display_data"
    }
   ],
   "source": [
    "butler = Butler('embargo_new', collections=['LSSTCam/raw/all', 'LSSTCam/calib/unbounded'])"
   ]
  },
  {
   "cell_type": "code",
   "execution_count": 4,
   "id": "b9f45b85-0529-4349-94d4-03bf818535d0",
   "metadata": {
    "execution": {
     "iopub.execute_input": "2024-11-04T15:29:30.106444Z",
     "iopub.status.busy": "2024-11-04T15:29:30.106310Z",
     "iopub.status.idle": "2024-11-04T15:29:30.125038Z",
     "shell.execute_reply": "2024-11-04T15:29:30.124690Z",
     "shell.execute_reply.started": "2024-11-04T15:29:30.106430Z"
    }
   },
   "outputs": [],
   "source": [
    "detector=list(butler.registry.queryDimensionRecords(\"detector\",instrument='LSSTCam',where=f\"detector.full_name='{sensor}'\"))[0].id"
   ]
  },
  {
   "cell_type": "code",
   "execution_count": 5,
   "id": "5c0de662-7a41-462a-830d-acc7e7e3f951",
   "metadata": {
    "execution": {
     "iopub.execute_input": "2024-11-04T15:29:30.125846Z",
     "iopub.status.busy": "2024-11-04T15:29:30.125723Z",
     "iopub.status.idle": "2024-11-04T15:29:30.179301Z",
     "shell.execute_reply": "2024-11-04T15:29:30.178950Z",
     "shell.execute_reply.started": "2024-11-04T15:29:30.125834Z"
    }
   },
   "outputs": [],
   "source": [
    "header=butler.getURI('raw.metadata',instrument='LSSTCam',detector=detector,exposure=expid)"
   ]
  },
  {
   "cell_type": "code",
   "execution_count": 6,
   "id": "ddae890e-8cda-41c2-be8e-154c3105101f",
   "metadata": {
    "execution": {
     "iopub.execute_input": "2024-11-04T15:29:30.181155Z",
     "iopub.status.busy": "2024-11-04T15:29:30.181021Z",
     "iopub.status.idle": "2024-11-04T15:29:30.305220Z",
     "shell.execute_reply": "2024-11-04T15:29:30.304712Z",
     "shell.execute_reply.started": "2024-11-04T15:29:30.181142Z"
    }
   },
   "outputs": [
    {
     "ename": "AttributeError",
     "evalue": "'S3ResourcePath' object has no attribute 'toString'",
     "output_type": "error",
     "traceback": [
      "\u001b[0;31m---------------------------------------------------------------------------\u001b[0m",
      "\u001b[0;31mAttributeError\u001b[0m                            Traceback (most recent call last)",
      "Cell \u001b[0;32mIn[6], line 1\u001b[0m\n\u001b[0;32m----> 1\u001b[0m \u001b[38;5;28mprint\u001b[39m(\u001b[43mheader\u001b[49m\u001b[38;5;241;43m.\u001b[39;49m\u001b[43mtoString\u001b[49m())\n",
      "\u001b[0;31mAttributeError\u001b[0m: 'S3ResourcePath' object has no attribute 'toString'"
     ]
    }
   ],
   "source": [
    "print(header.toString())"
   ]
  },
  {
   "cell_type": "code",
   "execution_count": null,
   "id": "d3f3231a-810c-40d8-85d0-924be71d3133",
   "metadata": {},
   "outputs": [],
   "source": []
  }
 ],
 "metadata": {
  "kernelspec": {
   "display_name": "LSST",
   "language": "python",
   "name": "lsst"
  },
  "language_info": {
   "codemirror_mode": {
    "name": "ipython",
    "version": 3
   },
   "file_extension": ".py",
   "mimetype": "text/x-python",
   "name": "python",
   "nbconvert_exporter": "python",
   "pygments_lexer": "ipython3",
   "version": "3.11.11"
  }
 },
 "nbformat": 4,
 "nbformat_minor": 5
}
