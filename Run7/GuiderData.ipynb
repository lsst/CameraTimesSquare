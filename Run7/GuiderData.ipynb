{
 "cells": [
  {
   "cell_type": "code",
   "execution_count": 1,
   "id": "0eae93bb-3fb1-40f3-9c15-e65852658ebe",
   "metadata": {
    "execution": {
     "iopub.execute_input": "2025-04-12T19:28:56.129434Z",
     "iopub.status.busy": "2025-04-12T19:28:56.129318Z",
     "iopub.status.idle": "2025-04-12T19:28:56.131360Z",
     "shell.execute_reply": "2025-04-12T19:28:56.131010Z",
     "shell.execute_reply.started": "2025-04-12T19:28:56.129421Z"
    }
   },
   "outputs": [],
   "source": [
    "expid='MC_O_20250411_000008'\n",
    "sensor='R00_SG1'"
   ]
  },
  {
   "cell_type": "code",
   "execution_count": 2,
   "id": "88de1fae-fcae-4d69-9610-fbd014775b71",
   "metadata": {
    "execution": {
     "iopub.execute_input": "2025-04-12T19:28:56.131865Z",
     "iopub.status.busy": "2025-04-12T19:28:56.131745Z",
     "iopub.status.idle": "2025-04-12T19:28:56.459515Z",
     "shell.execute_reply": "2025-04-12T19:28:56.459044Z",
     "shell.execute_reply.started": "2025-04-12T19:28:56.131854Z"
    }
   },
   "outputs": [],
   "source": [
    "from lsst.resources import ResourcePath\n",
    "from astropy.io import fits\n",
    "import os\n",
    "import numpy\n",
    "from astropy.table import Table\n",
    "from dateutil.parser import parse\n",
    "import re\n",
    "import json\n",
    "import matplotlib.pyplot as plt\n",
    "\n",
    "#MC_C_20240918_000019_R40_SG1_guider.fits\n",
    "p = re.compile( rf'MC_([OC])_(\\d*)_(\\d*)_(R.._S..)_guider.fits' )\n"
   ]
  },
  {
   "cell_type": "code",
   "execution_count": 3,
   "id": "056a51ff-7270-4dad-b3a1-a9950024a546",
   "metadata": {
    "execution": {
     "iopub.execute_input": "2025-04-12T19:28:56.460283Z",
     "iopub.status.busy": "2025-04-12T19:28:56.460044Z",
     "iopub.status.idle": "2025-04-12T19:28:56.464884Z",
     "shell.execute_reply": "2025-04-12T19:28:56.464499Z",
     "shell.execute_reply.started": "2025-04-12T19:28:56.460268Z"
    }
   },
   "outputs": [],
   "source": [
    "def examineone(fname):\n",
    "    oc, date, seqnum, sensor = p.match(fname).groups()\n",
    "    path = f's3://embargo@rubin-summit/LSSTCam/{date}/MC_{oc}_{date}_{seqnum}/{fname}'\n",
    "    rp=ResourcePath(path)\n",
    "    with rp.open(mode=\"rb\") as f:\n",
    "        hdu_list = fits.open(f)\n",
    "    hdus = hdu_list[2::2]  # for the mode with raw stamps\n",
    "#    hdus = hdu_list[1:]   # for the mode without raw stamps\n",
    "    timing = [ parse(hdu.header['STMPTIME']) for hdu in hdus ]\n",
    "    mean = [ numpy.mean(hdu.data) for hdu in hdus ]\n",
    "    stdnoise = numpy.mean(list(map( lambda x: numpy.std(x.data[1:-1,1:-1]), hdus))[1:]) \n",
    "    stdstdnoise = numpy.std(list(map( lambda x: numpy.std(x.data[1:-1,1:-1]), hdus))[1:]) \n",
    "\n",
    "    hz = 1/numpy.array(list(map(lambda x: x.total_seconds(), numpy.diff(numpy.array(list(map( lambda x: parse(x.header['STMPTIME']), hdus) )[1:]))))).mean()\n",
    "    \n",
    "    return {\n",
    "        's3path': rp,\n",
    "        'basename': rp.abspath().basename(),\n",
    "        'noise': stdnoise,\n",
    "        'std(noise)': stdstdnoise,        \n",
    "        'Hz': hz,\n",
    "        'mean': mean,\n",
    "        'timing': timing\n",
    "    }\n",
    "    "
   ]
  },
  {
   "cell_type": "code",
   "execution_count": null,
   "id": "64984fa9-e28b-4977-860a-a8dcb7cbb479",
   "metadata": {
    "execution": {
     "iopub.execute_input": "2025-04-12T19:28:56.465443Z",
     "iopub.status.busy": "2025-04-12T19:28:56.465306Z"
    }
   },
   "outputs": [
    {
     "data": {
      "text/html": [
       "<pre style=\"margin: 0.1em;\n",
       "padding-left: 0.25em;\n",
       "border-left-style: solid;\n",
       "font-family: var(--jp-code-font-family);\n",
       "font-size: var(--jp-code-font-size);\n",
       "line-height: var(--jp-code-line-height);\n",
       "\"><span style=\"color: var(--jp-warn-color2)\">botocore.credentials</span> <span style=\"color: var(--jp-info-color0)\">INFO</span>: Found credentials in shared credentials file: /home/y/youtsumi/.lsst/aws-credentials.ini</pre>"
      ],
      "text/plain": [
       "<IPython.core.display.HTML object>"
      ]
     },
     "metadata": {},
     "output_type": "display_data"
    }
   ],
   "source": [
    "table=Table(\n",
    "    list(map( lambda x: examineone(x), [\n",
    "        f'{expid}_R00_SG0_guider.fits',\n",
    "        f'{expid}_R00_SG1_guider.fits',\n",
    "        f'{expid}_R04_SG0_guider.fits',\n",
    "        f'{expid}_R04_SG1_guider.fits',\n",
    "        f'{expid}_R40_SG0_guider.fits',\n",
    "        f'{expid}_R40_SG1_guider.fits',\n",
    "        f'{expid}_R44_SG0_guider.fits',\n",
    "        f'{expid}_R44_SG1_guider.fits'\n",
    "    ])\n",
    "       )\n",
    ")\n",
    "table['basename','noise','std(noise)','Hz','mean','timing']"
   ]
  },
  {
   "cell_type": "code",
   "execution_count": null,
   "id": "d5d393d4-bc23-4185-9176-1fb3bd2cc600",
   "metadata": {},
   "outputs": [],
   "source": [
    "for row in table:\n",
    "    plt.plot(row['timing'],row['mean'],'.',label=row['basename'])\n",
    "plt.legend()"
   ]
  },
  {
   "cell_type": "code",
   "execution_count": null,
   "id": "0180904b-f998-435b-b210-a826cc740a54",
   "metadata": {},
   "outputs": [],
   "source": [
    "rp = ResourcePath(table[1]['s3path'].geturl().replace('.fits','.json'))\n",
    "with rp.open(mode=\"r\") as f:\n",
    "    j=json.load(f)\n",
    "print(json.dumps(j,indent=2))"
   ]
  },
  {
   "cell_type": "code",
   "execution_count": null,
   "id": "dcc821be-bd28-44a7-9fc7-1e2e51868aef",
   "metadata": {},
   "outputs": [],
   "source": [
    "import matplotlib.pyplot as plt\n",
    "import matplotlib.animation as animation\n",
    "from astropy.io import fits\n",
    "from IPython.display import HTML\n",
    "%matplotlib widget\n",
    "\n",
    "s3file = table[table['basename']==f'{expid}_{sensor}_guider.fits']['s3path'][0]\n",
    "with s3file.open(mode='rb') as f:\n",
    "    fh = fits.open(f)\n",
    "\n",
    "fig, ax = plt.subplots()\n",
    "\n",
    "frames = [[plt.imshow(img.data, animated=True)] for img in fh[2::2]]\n",
    "plt.colorbar()\n",
    "plt.title(s3file)\n",
    "ani = animation.ArtistAnimation(fig, frames, interval=120, blit=True, repeat_delay=1000)\n",
    "\n",
    "HTML(ani.to_html5_video())\n",
    "#plt.show()"
   ]
  },
  {
   "cell_type": "code",
   "execution_count": null,
   "id": "5adb7830-a3b2-4f02-bbb2-2a3de5d36195",
   "metadata": {},
   "outputs": [],
   "source": []
  }
 ],
 "metadata": {
  "kernelspec": {
   "display_name": "LSST",
   "language": "python",
   "name": "lsst"
  },
  "language_info": {
   "codemirror_mode": {
    "name": "ipython",
    "version": 3
   },
   "file_extension": ".py",
   "mimetype": "text/x-python",
   "name": "python",
   "nbconvert_exporter": "python",
   "pygments_lexer": "ipython3",
   "version": "3.11.11"
  }
 },
 "nbformat": 4,
 "nbformat_minor": 5
}
