{
 "cells": [
  {
   "cell_type": "code",
   "execution_count": 1,
   "id": "f904108d-417c-4ef1-999b-d652ab3be11e",
   "metadata": {
    "execution": {
     "iopub.execute_input": "2025-07-11T18:08:55.719659Z",
     "iopub.status.busy": "2025-07-11T18:08:55.719435Z",
     "iopub.status.idle": "2025-07-11T18:08:55.724128Z",
     "shell.execute_reply": "2025-07-11T18:08:55.723732Z",
     "shell.execute_reply.started": "2025-07-11T18:08:55.719633Z"
    }
   },
   "outputs": [],
   "source": [
    "## parameter cell"
   ]
  },
  {
   "cell_type": "code",
   "execution_count": 2,
   "id": "20f85d37-8953-4367-b252-b4ca02a16104",
   "metadata": {
    "execution": {
     "iopub.execute_input": "2025-07-11T18:08:55.724737Z",
     "iopub.status.busy": "2025-07-11T18:08:55.724594Z",
     "iopub.status.idle": "2025-07-11T18:08:56.753345Z",
     "shell.execute_reply": "2025-07-11T18:08:56.752854Z",
     "shell.execute_reply.started": "2025-07-11T18:08:55.724724Z"
    }
   },
   "outputs": [],
   "source": [
    "from lsst.daf.butler import Butler\n",
    "import datetime"
   ]
  },
  {
   "cell_type": "code",
   "execution_count": 48,
   "id": "b6ca6a37-e2b8-4dda-ad32-5b3397bfa7fd",
   "metadata": {
    "execution": {
     "iopub.execute_input": "2025-07-11T18:32:54.857017Z",
     "iopub.status.busy": "2025-07-11T18:32:54.856683Z",
     "iopub.status.idle": "2025-07-11T18:32:58.104360Z",
     "shell.execute_reply": "2025-07-11T18:32:58.103769Z",
     "shell.execute_reply.started": "2025-07-11T18:32:54.857000Z"
    }
   },
   "outputs": [
    {
     "name": "stdout",
     "output_type": "stream",
     "text": [
      "Image count in butler since 20250415 by 2025-07-11 18:32:57.876903 is 49959\n",
      "N(focus     )=        122, (       122)\n",
      "N(science   )=      13612, (     13589)\n",
      "N(test      )=          1, (         0)\n",
      "N(bias      )=       8966, (         4)\n",
      "N(dark      )=       3852, (         0)\n",
      "N(engtest   )=        171, (       164)\n",
      "N(flat      )=       9066, (       313)\n",
      "N(unknown   )=        404, (         0)\n",
      "N(stuttered )=          6, (         0)\n",
      "N(acq       )=      12323, (     12273)\n",
      "N(cwfs      )=       1436, (      1436)\n",
      "Number in the parensis is with the can_see_sky=True condition\n"
     ]
    }
   ],
   "source": [
    "butler = Butler('embargo_new', collections=['LSSTCam/raw/all', 'LSSTCam/calib/unbounded'])\n",
    "\n",
    "dayObs = 20250415\n",
    "instrument = \"LSSTCam\"\n",
    "\n",
    "exposureList = []\n",
    "for record in butler.registry.queryDimensionRecords(\"exposure\", \n",
    "                    where=f\"\"\"\n",
    "                    exposure.day_obs>={dayObs} and\n",
    "                    instrument='LSSTCam'\n",
    "                    \"\"\"\n",
    "                                                   ):\n",
    "    exposureList.append([record.id, record])\n",
    "\n",
    "print(f\"Image count in butler since {dayObs} by {datetime.datetime.now()} is {len(exposureList)}\")\n",
    "for atype in set([ exp[1].observation_type for exp in exposureList ]):\n",
    "    print( f\"N({atype:<10})= {len(list(filter( lambda x: x[1].observation_type==atype, exposureList ))):>10},\", end=' ')\n",
    "    print( f\"({len(list(filter( lambda x: ( x[1].observation_type==atype ) and ( x[1].can_see_sky==True ), exposureList ))):>10})\")\n",
    "    \n",
    "print(f\"Number in the parensis is with the can_see_sky=True condition\")\n"
   ]
  },
  {
   "cell_type": "code",
   "execution_count": 35,
   "id": "f4f5d2ec-f2ea-4dad-960f-87b497f17558",
   "metadata": {
    "execution": {
     "iopub.execute_input": "2025-07-11T18:19:12.172104Z",
     "iopub.status.busy": "2025-07-11T18:19:12.171937Z",
     "iopub.status.idle": "2025-07-11T18:19:12.180061Z",
     "shell.execute_reply": "2025-07-11T18:19:12.179622Z",
     "shell.execute_reply.started": "2025-07-11T18:19:12.172087Z"
    }
   },
   "outputs": [
    {
     "data": {
      "text/plain": [
       "{'acq', 'bias', 'cwfs', 'engtest', 'flat', 'focus', 'science'}"
      ]
     },
     "execution_count": 35,
     "metadata": {},
     "output_type": "execute_result"
    }
   ],
   "source": [
    "set([ exp[1].observation_type for exp in exposureList ])"
   ]
  },
  {
   "cell_type": "code",
   "execution_count": null,
   "id": "7441c94a-a633-45cd-9e9e-d5322f290f03",
   "metadata": {},
   "outputs": [],
   "source": [
    "                    exposure.observation_reason not in ('bias','dark') and\n"
   ]
  }
 ],
 "metadata": {
  "kernelspec": {
   "display_name": "LSST",
   "language": "python",
   "name": "lsst"
  },
  "language_info": {
   "codemirror_mode": {
    "name": "ipython",
    "version": 3
   },
   "file_extension": ".py",
   "mimetype": "text/x-python",
   "name": "python",
   "nbconvert_exporter": "python",
   "pygments_lexer": "ipython3",
   "version": "3.12.11"
  }
 },
 "nbformat": 4,
 "nbformat_minor": 5
}
