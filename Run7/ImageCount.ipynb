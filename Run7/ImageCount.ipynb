{
 "cells": [
  {
   "cell_type": "code",
   "execution_count": 4,
   "id": "f904108d-417c-4ef1-999b-d652ab3be11e",
   "metadata": {
    "execution": {
     "iopub.execute_input": "2025-08-20T23:02:50.683617Z",
     "iopub.status.busy": "2025-08-20T23:02:50.683379Z",
     "iopub.status.idle": "2025-08-20T23:02:50.685997Z",
     "shell.execute_reply": "2025-08-20T23:02:50.685578Z",
     "shell.execute_reply.started": "2025-08-20T23:02:50.683600Z"
    }
   },
   "outputs": [],
   "source": [
    "## parameter cell"
   ]
  },
  {
   "cell_type": "code",
   "execution_count": 5,
   "id": "20f85d37-8953-4367-b252-b4ca02a16104",
   "metadata": {
    "execution": {
     "iopub.execute_input": "2025-08-20T23:02:50.953953Z",
     "iopub.status.busy": "2025-08-20T23:02:50.953588Z",
     "iopub.status.idle": "2025-08-20T23:02:50.956394Z",
     "shell.execute_reply": "2025-08-20T23:02:50.955894Z",
     "shell.execute_reply.started": "2025-08-20T23:02:50.953926Z"
    }
   },
   "outputs": [],
   "source": [
    "from lsst.daf.butler import Butler\n",
    "import datetime"
   ]
  },
  {
   "cell_type": "code",
   "execution_count": 6,
   "id": "b6ca6a37-e2b8-4dda-ad32-5b3397bfa7fd",
   "metadata": {
    "execution": {
     "iopub.execute_input": "2025-08-20T23:02:51.195175Z",
     "iopub.status.busy": "2025-08-20T23:02:51.194910Z",
     "iopub.status.idle": "2025-08-20T23:02:55.287447Z",
     "shell.execute_reply": "2025-08-20T23:02:55.287019Z",
     "shell.execute_reply.started": "2025-08-20T23:02:51.195159Z"
    }
   },
   "outputs": [
    {
     "name": "stdout",
     "output_type": "stream",
     "text": [
      "Image count in butler since 20250415 by 2025-08-20 23:02:55.044302 is 69821\n",
      "N(science   )=      21598, (     21571)\n",
      "N(unknown   )=        433, (         0)\n",
      "N(flat      )=      16774, (       313)\n",
      "N(acq       )=      14942, (     14830)\n",
      "N(focus     )=        122, (       122)\n",
      "N(cwfs      )=       1726, (      1726)\n",
      "N(dark      )=       4872, (         0)\n",
      "N(engtest   )=        236, (       229)\n",
      "N(stuttered )=          6, (         0)\n",
      "N(bias      )=       9111, (         4)\n",
      "N(test      )=          1, (         0)\n",
      "Number in the parensis is with the can_see_sky=True condition\n"
     ]
    }
   ],
   "source": [
    "butler = Butler('embargo_new', collections=['LSSTCam/raw/all', 'LSSTCam/calib/unbounded'])\n",
    "\n",
    "dayObs = 20250415\n",
    "instrument = \"LSSTCam\"\n",
    "\n",
    "exposureList = []\n",
    "for record in butler.registry.queryDimensionRecords(\"exposure\", \n",
    "                    where=f\"\"\"\n",
    "                    exposure.day_obs>={dayObs} and\n",
    "                    instrument='LSSTCam'\n",
    "                    \"\"\"\n",
    "                                                   ):\n",
    "    exposureList.append([record.id, record])\n",
    "\n",
    "print(f\"Image count in butler since {dayObs} by {datetime.datetime.now()} is {len(exposureList)}\")\n",
    "for atype in set([ exp[1].observation_type for exp in exposureList ]):\n",
    "    print( f\"N({atype:<10})= {len(list(filter( lambda x: x[1].observation_type==atype, exposureList ))):>10},\", end=' ')\n",
    "    print( f\"({len(list(filter( lambda x: ( x[1].observation_type==atype ) and ( x[1].can_see_sky==True ), exposureList ))):>10})\")\n",
    "    \n",
    "print(f\"Number in the parensis is with the can_see_sky=True condition\")\n"
   ]
  },
  {
   "cell_type": "code",
   "execution_count": null,
   "id": "367924b1-f5b3-4ce6-a045-1c204854bb0b",
   "metadata": {},
   "outputs": [],
   "source": []
  }
 ],
 "metadata": {
  "kernelspec": {
   "display_name": "LSST",
   "language": "python",
   "name": "lsst"
  },
  "language_info": {
   "codemirror_mode": {
    "name": "ipython",
    "version": 3
   },
   "file_extension": ".py",
   "mimetype": "text/x-python",
   "name": "python",
   "nbconvert_exporter": "python",
   "pygments_lexer": "ipython3",
   "version": "3.12.11"
  }
 },
 "nbformat": 4,
 "nbformat_minor": 5
}
