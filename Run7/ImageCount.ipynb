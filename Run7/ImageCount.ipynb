{
 "cells": [
  {
   "cell_type": "code",
   "execution_count": 1,
   "id": "f904108d-417c-4ef1-999b-d652ab3be11e",
   "metadata": {
    "execution": {
     "iopub.execute_input": "2024-10-13T16:41:29.180716Z",
     "iopub.status.busy": "2024-10-13T16:41:29.180592Z",
     "iopub.status.idle": "2024-10-13T16:41:29.182540Z",
     "shell.execute_reply": "2024-10-13T16:41:29.182203Z",
     "shell.execute_reply.started": "2024-10-13T16:41:29.180704Z"
    }
   },
   "outputs": [],
   "source": [
    "## parameter cell"
   ]
  },
  {
   "cell_type": "code",
   "execution_count": 2,
   "id": "20f85d37-8953-4367-b252-b4ca02a16104",
   "metadata": {
    "execution": {
     "iopub.execute_input": "2024-10-13T16:41:30.037846Z",
     "iopub.status.busy": "2024-10-13T16:41:30.037381Z",
     "iopub.status.idle": "2024-10-13T16:41:30.812500Z",
     "shell.execute_reply": "2024-10-13T16:41:30.812082Z",
     "shell.execute_reply.started": "2024-10-13T16:41:30.037830Z"
    }
   },
   "outputs": [],
   "source": [
    "from lsst.daf.butler import Butler\n",
    "import datetime"
   ]
  },
  {
   "cell_type": "code",
   "execution_count": 3,
   "id": "b6ca6a37-e2b8-4dda-ad32-5b3397bfa7fd",
   "metadata": {
    "execution": {
     "iopub.execute_input": "2024-10-13T16:41:32.578341Z",
     "iopub.status.busy": "2024-10-13T16:41:32.577836Z",
     "iopub.status.idle": "2024-10-13T16:41:33.986789Z",
     "shell.execute_reply": "2024-10-13T16:41:33.986344Z",
     "shell.execute_reply.started": "2024-10-13T16:41:32.578323Z"
    }
   },
   "outputs": [
    {
     "data": {
      "text/html": [
       "<pre style=\"margin: 0.1em;\n",
       "padding-left: 0.25em;\n",
       "border-left-style: solid;\n",
       "font-family: var(--jp-code-font-family);\n",
       "font-size: var(--jp-code-font-size);\n",
       "line-height: var(--jp-code-line-height);\n",
       "\"><span style=\"color: var(--jp-warn-color2)\">botocore.credentials</span> <span style=\"color: var(--jp-info-color0)\">INFO</span>: Found credentials in shared credentials file: /home/y/youtsumi/.lsst/aws-credentials.ini</pre>"
      ],
      "text/plain": [
       "<IPython.core.display.HTML object>"
      ]
     },
     "metadata": {},
     "output_type": "display_data"
    },
    {
     "name": "stdout",
     "output_type": "stream",
     "text": [
      "Image count in butler since 20240924 by 2024-10-13 16:41:33.984842 is 21172\n"
     ]
    }
   ],
   "source": [
    "butler = Butler('embargo_new', collections=['LSSTCam/raw/all', 'LSSTCam/calib/unbounded'])\n",
    "\n",
    "dayObs = 20240924\n",
    "instrument = \"LSSTCam\"\n",
    "\n",
    "exposureList = []\n",
    "for record in butler.registry.queryDimensionRecords(\"exposure\", \n",
    "                    where=f\"exposure.day_obs>={dayObs} and instrument='LSSTCam'\"):\n",
    "    exposureList.append([record.id, record])\n",
    "print(f\"Image count in butler since {dayObs} by {datetime.datetime.now()} is {len(exposureList)}\")\n"
   ]
  },
  {
   "cell_type": "code",
   "execution_count": null,
   "id": "aaff232f-c1bd-48c0-90fb-14bc35c47cb0",
   "metadata": {},
   "outputs": [],
   "source": []
  }
 ],
 "metadata": {
  "kernelspec": {
   "display_name": "LSST",
   "language": "python",
   "name": "lsst"
  },
  "language_info": {
   "codemirror_mode": {
    "name": "ipython",
    "version": 3
   },
   "file_extension": ".py",
   "mimetype": "text/x-python",
   "name": "python",
   "nbconvert_exporter": "python",
   "pygments_lexer": "ipython3",
   "version": "3.11.9"
  }
 },
 "nbformat": 4,
 "nbformat_minor": 5
}
