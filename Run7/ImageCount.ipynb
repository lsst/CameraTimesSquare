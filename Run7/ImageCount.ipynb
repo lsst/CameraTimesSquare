{
 "cells": [
  {
   "cell_type": "code",
   "execution_count": 1,
   "id": "f904108d-417c-4ef1-999b-d652ab3be11e",
   "metadata": {
    "execution": {
     "iopub.execute_input": "2025-01-28T15:55:41.739198Z",
     "iopub.status.busy": "2025-01-28T15:55:41.739069Z",
     "iopub.status.idle": "2025-01-28T15:55:41.741120Z",
     "shell.execute_reply": "2025-01-28T15:55:41.740784Z",
     "shell.execute_reply.started": "2025-01-28T15:55:41.739181Z"
    }
   },
   "outputs": [],
   "source": [
    "## parameter cell"
   ]
  },
  {
   "cell_type": "code",
   "execution_count": 2,
   "id": "20f85d37-8953-4367-b252-b4ca02a16104",
   "metadata": {
    "execution": {
     "iopub.execute_input": "2025-01-28T15:55:41.741884Z",
     "iopub.status.busy": "2025-01-28T15:55:41.741748Z",
     "iopub.status.idle": "2025-01-28T15:55:42.384980Z",
     "shell.execute_reply": "2025-01-28T15:55:42.384547Z",
     "shell.execute_reply.started": "2025-01-28T15:55:41.741872Z"
    }
   },
   "outputs": [],
   "source": [
    "from lsst.daf.butler import Butler\n",
    "import datetime"
   ]
  },
  {
   "cell_type": "code",
   "execution_count": 3,
   "id": "b6ca6a37-e2b8-4dda-ad32-5b3397bfa7fd",
   "metadata": {
    "execution": {
     "iopub.execute_input": "2025-01-28T15:55:42.385657Z",
     "iopub.status.busy": "2025-01-28T15:55:42.385523Z",
     "iopub.status.idle": "2025-01-28T15:55:43.874095Z",
     "shell.execute_reply": "2025-01-28T15:55:43.873459Z",
     "shell.execute_reply.started": "2025-01-28T15:55:42.385644Z"
    }
   },
   "outputs": [
    {
     "data": {
      "text/html": [
       "<pre style=\"margin: 0.1em;\n",
       "padding-left: 0.25em;\n",
       "border-left-style: solid;\n",
       "font-family: var(--jp-code-font-family);\n",
       "font-size: var(--jp-code-font-size);\n",
       "line-height: var(--jp-code-line-height);\n",
       "\"><span style=\"color: var(--jp-warn-color2)\">botocore.credentials</span> <span style=\"color: var(--jp-info-color0)\">INFO</span>: Found credentials in shared credentials file: /home/y/youtsumi/.lsst/aws-credentials.ini</pre>"
      ],
      "text/plain": [
       "<IPython.core.display.HTML object>"
      ]
     },
     "metadata": {},
     "output_type": "display_data"
    },
    {
     "name": "stdout",
     "output_type": "stream",
     "text": [
      "Image count in butler since 20241030 by 2025-01-28 15:55:43.871878 is 18101\n"
     ]
    }
   ],
   "source": [
    "butler = Butler('embargo_new', collections=['LSSTCam/raw/all', 'LSSTCam/calib/unbounded'])\n",
    "\n",
    "dayObs = 20241030\n",
    "instrument = \"LSSTCam\"\n",
    "\n",
    "exposureList = []\n",
    "for record in butler.registry.queryDimensionRecords(\"exposure\", \n",
    "                    where=f\"exposure.day_obs>={dayObs} and instrument='LSSTCam'\"):\n",
    "    exposureList.append([record.id, record])\n",
    "print(f\"Image count in butler since {dayObs} by {datetime.datetime.now()} is {len(exposureList)}\")\n"
   ]
  },
  {
   "cell_type": "code",
   "execution_count": 6,
   "id": "aaff232f-c1bd-48c0-90fb-14bc35c47cb0",
   "metadata": {
    "execution": {
     "iopub.execute_input": "2025-01-28T15:56:30.434194Z",
     "iopub.status.busy": "2025-01-28T15:56:30.433806Z",
     "iopub.status.idle": "2025-01-28T15:56:30.542355Z",
     "shell.execute_reply": "2025-01-28T15:56:30.542004Z",
     "shell.execute_reply.started": "2025-01-28T15:56:30.434180Z"
    }
   },
   "outputs": [],
   "source": [
    "collections = [\"LSSTComCam/hips/DRP/DP1/w_2025_04/DM-48556/\"]\n",
    "butler=Butler('embargo',collections=collections)"
   ]
  },
  {
   "cell_type": "code",
   "execution_count": 13,
   "id": "4a5282de-3af7-4ccc-bdb6-516851d84212",
   "metadata": {
    "execution": {
     "iopub.execute_input": "2025-01-28T15:57:53.183927Z",
     "iopub.status.busy": "2025-01-28T15:57:53.183360Z",
     "iopub.status.idle": "2025-01-28T15:57:53.721194Z",
     "shell.execute_reply": "2025-01-28T15:57:53.720796Z",
     "shell.execute_reply.started": "2025-01-28T15:57:53.183913Z"
    }
   },
   "outputs": [
    {
     "data": {
      "text/plain": [
       "['LSSTComCam/runs/DRP/DP1-RC1/w_2025_02/DM-48371/20250114T150254Z',\n",
       " 'LSSTComCam/runs/DRP/DP1-RC1/w_2025_02/DM-48371/hips/deep/20250114T193412Z',\n",
       " 'LSSTComCam/runs/DRP/DP1-RC1/w_2025_02/DM-48371/hips/deep/20250114T193519Z',\n",
       " 'LSSTComCam/raw/DP1-RC1/DM-48240',\n",
       " 'LSSTComCam/runs/DRP/DP1-RC1/w_2025_02/DM-48371/20250111T215953Z',\n",
       " 'LSSTComCam/raw/DP1/DM-48240',\n",
       " 'LSSTComCam/runs/DRP/DP1-RC1/w_2025_02/DM-48371/hips/deep/20250114T193312Z',\n",
       " 'LSSTComCam/runs/DRP/DP1-RC1/w_2025_02/DM-48371/20250111T001350Z',\n",
       " 'LSSTComCam/runs/DRP/DP1-RC1/w_2025_02/DM-48371/20250114T063012Z',\n",
       " 'LSSTComCam/runs/DRP/DP1-RC1/w_2025_02/DM-48371/20250114T210750Z',\n",
       " 'LSSTComCam/runs/DRP/DP1-RC1/w_2025_02/DM-48371/20250111T004015Z',\n",
       " 'LSSTComCam/runs/DRP/DP1-RC1/w_2025_02/DM-48371/hips/deep/20250114T193626Z',\n",
       " 'u/dtaranu/DM-47234/DP1-RC1/w_2025_02/match/20250116T005643Z',\n",
       " 'LSSTComCam/runs/DRP/DP1-RC1/w_2025_02/DM-48371/20250110T203415Z',\n",
       " 'LSSTComCam/runs/DRP/DP1-RC1/w_2025_02/DM-48371/20250114T133941Z',\n",
       " 'u/dtaranu/DM-47234/DP1-RC1/w_2025_02/match/20250116T005743Z',\n",
       " 'LSSTComCam/runs/DRP/DP1-RC1/w_2025_02/DM-48371/20250114T071119Z',\n",
       " 'u/dtaranu/DM-47234/DP1-RC1/w_2025_02/plot/20250116T005819Z',\n",
       " 'u/dtaranu/DM-47234/DP1-RC1/w_2025_02/plot_decals_refExtendedness/20250116T010151Z',\n",
       " 'LSSTComCam/runs/DRP/DP1-RC1/w_2025_02/DM-48371/hips/deep/20250114T174846Z',\n",
       " 'LSSTComCam/runs/DRP/DP1-RC1/w_2025_02/DM-48371/20250111T013143Z',\n",
       " 'LSSTComCam/runs/DRP/DP1-RC1/w_2025_02/DM-48371/hips/goodSeeing/20250114T205425Z',\n",
       " 'LSSTComCam/runs/DRP/DP1-RC1/w_2025_02/DM-48371/20250111T044510Z',\n",
       " 'LSSTComCam/runs/DRP/DP1-RC1/w_2025_02/DM-48371/hips/goodSeeing/20250114T205629Z',\n",
       " 'LSSTComCam/runs/DRP/DP1-RC1/w_2025_02/DM-48371/20250111T024753Z',\n",
       " 'LSSTComCam/runs/DRP/DP1-RC1/w_2025_02/DM-48371/hips/goodSeeing/20250114T205527Z',\n",
       " 'LSSTComCam/runs/DRP/DP1-RC1/w_2025_02/DM-48371/20250111T054614Z',\n",
       " 'LSSTComCam/runs/DRP/DP1-RC1/w_2025_02/DM-48371/20250114T224312Z',\n",
       " 'LSSTComCam/runs/DRP/DP1-RC1/w_2025_02/DM-48371/20250111T070754Z',\n",
       " 'LSSTComCam/runs/DRP/DP1-RC1/w_2025_02/DM-48371/hips/goodSeeing/20250114T205322Z',\n",
       " 'LSSTComCam/runs/DRP/DP1-RC1/w_2025_02/DM-48371/20250111T210413Z',\n",
       " 'LSSTComCam/runs/DRP/DP1-RC1/w_2025_02/DM-48371/hips/goodSeeing/20250114T181930Z',\n",
       " 'LSSTComCam/runs/DRP/DP1-RC1/w_2025_02/DM-48371/20250114T203823Z',\n",
       " 'LSSTComCam/DP1-RC1/defaults',\n",
       " 'LSSTComCam/runs/DRP/DP1-RC1/w_2025_02/DM-48371',\n",
       " 'u/dtaranu/DM-47234/DP1-RC1/w_2025_02',\n",
       " 'u/dtaranu/DM-47234/DP1-RC1/w_2025_02/match',\n",
       " 'u/dtaranu/DM-47234/DP1-RC1/w_2025_02/plot',\n",
       " 'u/dtaranu/DM-47234/DP1-RC1/w_2025_02/plot_decals_refExtendedness',\n",
       " 'LSSTComCam/runs/DRP/DP1-RC1/w_2025_02/DM-48371/hips/deep',\n",
       " 'LSSTComCam/runs/DRP/DP1-RC1/w_2025_02/DM-48371/hips/goodSeeing']"
      ]
     },
     "execution_count": 13,
     "metadata": {},
     "output_type": "execute_result"
    }
   ],
   "source": [
    "butler.registry.queryCollections('*DP1*')"
   ]
  },
  {
   "cell_type": "code",
   "execution_count": 41,
   "id": "dcc051ca-0447-4bde-9834-80dcba78ee04",
   "metadata": {
    "execution": {
     "iopub.execute_input": "2025-01-28T17:19:47.485108Z",
     "iopub.status.busy": "2025-01-28T17:19:47.484778Z",
     "iopub.status.idle": "2025-01-28T17:19:47.790307Z",
     "shell.execute_reply": "2025-01-28T17:19:47.789917Z",
     "shell.execute_reply.started": "2025-01-28T17:19:47.485088Z"
    }
   },
   "outputs": [],
   "source": [
    "collections=['LSSTComCam/runs/nightlyValidation/20241210/w_2024_48/DM-47059']\n",
    "deepcoaddrefs=butler.registry.queryDatasets('deepCoadd', collections=collections)\n",
    "deepcoadd=butler.get('deepCoadd',collections=collections, dataId=list(deepcoaddrefs)[0].dataId)"
   ]
  },
  {
   "cell_type": "code",
   "execution_count": 49,
   "id": "6ee5fb46-ee6c-4856-9289-d388f5d70618",
   "metadata": {
    "execution": {
     "iopub.execute_input": "2025-01-28T17:21:06.542980Z",
     "iopub.status.busy": "2025-01-28T17:21:06.542580Z",
     "iopub.status.idle": "2025-01-28T17:21:07.163357Z",
     "shell.execute_reply": "2025-01-28T17:21:07.163017Z",
     "shell.execute_reply.started": "2025-01-28T17:21:06.542963Z"
    }
   },
   "outputs": [
    {
     "data": {
      "text/plain": [
       "<matplotlib.image.AxesImage at 0x7f6297b0d490>"
      ]
     },
     "execution_count": 49,
     "metadata": {},
     "output_type": "execute_result"
    },
    {
     "data": {
      "image/png": "[encoded data removed]",
      "text/plain": [
       "<Figure size 640x480 with 1 Axes>"
      ]
     },
     "metadata": {},
     "output_type": "display_data"
    }
   ],
   "source": [
    "import pylab\n",
    "pylab.imshow(deepcoadd.maskedImage.image.array,vmin=-100,vmax=100,origin='lower')"
   ]
  },
  {
   "cell_type": "code",
   "execution_count": 47,
   "id": "e9a16df4-9707-494f-ac24-ffdff6da9428",
   "metadata": {
    "execution": {
     "iopub.execute_input": "2025-01-28T17:20:44.920691Z",
     "iopub.status.busy": "2025-01-28T17:20:44.920154Z",
     "iopub.status.idle": "2025-01-28T17:20:44.924032Z",
     "shell.execute_reply": "2025-01-28T17:20:44.923654Z",
     "shell.execute_reply.started": "2025-01-28T17:20:44.920676Z"
    }
   },
   "outputs": [
    {
     "data": {
      "text/plain": [
       "lsst.afw.image._image.ImageF=[[-5.8273917e-01  8.5958523e-01  1.1051829e-01 ...  7.2656855e-02\n",
       "   7.2656855e-02  7.2656855e-02]\n",
       " [-3.5635795e-04  3.1022131e-01 -9.6373492e-01 ...  7.2656855e-02\n",
       "   7.2656855e-02  7.2656855e-02]\n",
       " [-2.7829260e-01 -6.0613388e-01 -1.0321044e+00 ...  7.2656855e-02\n",
       "   7.2656855e-02  7.2656855e-02]\n",
       " ...\n",
       " [ 7.2656855e-02  7.2656855e-02  7.2656855e-02 ...  7.2656855e-02\n",
       "   7.2656855e-02  7.2656855e-02]\n",
       " [ 7.2656855e-02  7.2656855e-02  7.2656855e-02 ...  7.2656855e-02\n",
       "   7.2656855e-02  7.2656855e-02]\n",
       " [ 7.2656855e-02  7.2656855e-02  7.2656855e-02 ...  7.2656855e-02\n",
       "   7.2656855e-02  7.2656855e-02]], bbox=(minimum=(26800, 11800), maximum=(30199, 15199))"
      ]
     },
     "execution_count": 47,
     "metadata": {},
     "output_type": "execute_result"
    }
   ],
   "source": [
    "deepcoadd.maskedImage.image"
   ]
  },
  {
   "cell_type": "code",
   "execution_count": null,
   "id": "f4f5d2ec-f2ea-4dad-960f-87b497f17558",
   "metadata": {},
   "outputs": [],
   "source": []
  }
 ],
 "metadata": {
  "kernelspec": {
   "display_name": "LSST",
   "language": "python",
   "name": "lsst"
  },
  "language_info": {
   "codemirror_mode": {
    "name": "ipython",
    "version": 3
   },
   "file_extension": ".py",
   "mimetype": "text/x-python",
   "name": "python",
   "nbconvert_exporter": "python",
   "pygments_lexer": "ipython3",
   "version": "3.11.11"
  }
 },
 "nbformat": 4,
 "nbformat_minor": 5
}
