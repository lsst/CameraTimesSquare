{
 "cells": [
  {
   "cell_type": "code",
   "execution_count": 1,
   "id": "f904108d-417c-4ef1-999b-d652ab3be11e",
   "metadata": {
    "execution": {
     "iopub.execute_input": "2025-07-11T18:33:59.010312Z",
     "iopub.status.busy": "2025-07-11T18:33:59.010034Z",
     "iopub.status.idle": "2025-07-11T18:33:59.015614Z",
     "shell.execute_reply": "2025-07-11T18:33:59.013053Z",
     "shell.execute_reply.started": "2025-07-11T18:33:59.010272Z"
    }
   },
   "outputs": [],
   "source": [
    "## parameter cell"
   ]
  },
  {
   "cell_type": "code",
   "execution_count": 2,
   "id": "20f85d37-8953-4367-b252-b4ca02a16104",
   "metadata": {
    "execution": {
     "iopub.execute_input": "2025-07-11T18:33:59.018251Z",
     "iopub.status.busy": "2025-07-11T18:33:59.018109Z",
     "iopub.status.idle": "2025-07-11T18:34:00.344662Z",
     "shell.execute_reply": "2025-07-11T18:34:00.344170Z",
     "shell.execute_reply.started": "2025-07-11T18:33:59.018236Z"
    }
   },
   "outputs": [],
   "source": [
    "from lsst.daf.butler import Butler\n",
    "import datetime"
   ]
  },
  {
   "cell_type": "code",
   "execution_count": 3,
   "id": "b6ca6a37-e2b8-4dda-ad32-5b3397bfa7fd",
   "metadata": {
    "execution": {
     "iopub.execute_input": "2025-07-11T18:34:00.348219Z",
     "iopub.status.busy": "2025-07-11T18:34:00.347934Z",
     "iopub.status.idle": "2025-07-11T18:34:04.364678Z",
     "shell.execute_reply": "2025-07-11T18:34:04.364087Z",
     "shell.execute_reply.started": "2025-07-11T18:34:00.348203Z"
    }
   },
   "outputs": [
    {
     "data": {
      "text/html": [
       "<pre style=\"margin: 0.1em;\n",
       "padding-left: 0.25em;\n",
       "border-left-style: solid;\n",
       "font-family: var(--jp-code-font-family);\n",
       "font-size: var(--jp-code-font-size);\n",
       "line-height: var(--jp-code-line-height);\n",
       "\"><span style=\"color: var(--jp-warn-color2)\">botocore.credentials</span> <span style=\"color: var(--jp-info-color0)\">INFO</span>: Found credentials in shared credentials file: /home/y/youtsumi/.lsst/aws-credentials.ini</pre>"
      ],
      "text/plain": [
       "<IPython.core.display.HTML object>"
      ]
     },
     "metadata": {},
     "output_type": "display_data"
    },
    {
     "name": "stdout",
     "output_type": "stream",
     "text": [
      "Image count in butler since 20250415 by 2025-07-11 18:34:04.182677 is 49959\n",
      "N(science   )=      13612, (     13589)\n",
      "N(flat      )=       9066, (       313)\n",
      "N(unknown   )=        404, (         0)\n",
      "N(engtest   )=        171, (       164)\n",
      "N(bias      )=       8966, (         4)\n",
      "N(focus     )=        122, (       122)\n",
      "N(stuttered )=          6, (         0)\n",
      "N(cwfs      )=       1436, (      1436)\n",
      "N(test      )=          1, (         0)\n",
      "N(dark      )=       3852, (         0)\n",
      "N(acq       )=      12323, (     12273)\n",
      "Number in the parensis is with the can_see_sky=True condition\n"
     ]
    }
   ],
   "source": [
    "butler = Butler('embargo_new', collections=['LSSTCam/raw/all', 'LSSTCam/calib/unbounded'])\n",
    "\n",
    "dayObs = 20250415\n",
    "instrument = \"LSSTCam\"\n",
    "\n",
    "exposureList = []\n",
    "for record in butler.registry.queryDimensionRecords(\"exposure\", \n",
    "                    where=f\"\"\"\n",
    "                    exposure.day_obs>={dayObs} and\n",
    "                    instrument='LSSTCam'\n",
    "                    \"\"\"\n",
    "                                                   ):\n",
    "    exposureList.append([record.id, record])\n",
    "\n",
    "print(f\"Image count in butler since {dayObs} by {datetime.datetime.now()} is {len(exposureList)}\")\n",
    "for atype in set([ exp[1].observation_type for exp in exposureList ]):\n",
    "    print( f\"N({atype:<10})= {len(list(filter( lambda x: x[1].observation_type==atype, exposureList ))):>10},\", end=' ')\n",
    "    print( f\"({len(list(filter( lambda x: ( x[1].observation_type==atype ) and ( x[1].can_see_sky==True ), exposureList ))):>10})\")\n",
    "    \n",
    "print(f\"Number in the parensis is with the can_see_sky=True condition\")\n"
   ]
  },
  {
   "cell_type": "code",
   "execution_count": null,
   "id": "367924b1-f5b3-4ce6-a045-1c204854bb0b",
   "metadata": {},
   "outputs": [],
   "source": []
  }
 ],
 "metadata": {
  "kernelspec": {
   "display_name": "LSST",
   "language": "python",
   "name": "lsst"
  },
  "language_info": {
   "codemirror_mode": {
    "name": "ipython",
    "version": 3
   },
   "file_extension": ".py",
   "mimetype": "text/x-python",
   "name": "python",
   "nbconvert_exporter": "python",
   "pygments_lexer": "ipython3",
   "version": "3.12.11"
  }
 },
 "nbformat": 4,
 "nbformat_minor": 5
}
