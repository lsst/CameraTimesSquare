{
 "cells": [
  {
   "cell_type": "code",
   "execution_count": 1,
   "id": "eb7fec00-8cc7-4636-919e-293830c239a0",
   "metadata": {
    "execution": {
     "iopub.execute_input": "2025-04-12T21:00:33.302344Z",
     "iopub.status.busy": "2025-04-12T21:00:33.302047Z",
     "iopub.status.idle": "2025-04-12T21:00:33.690121Z",
     "shell.execute_reply": "2025-04-12T21:00:33.689668Z",
     "shell.execute_reply.started": "2025-04-12T21:00:33.302329Z"
    }
   },
   "outputs": [],
   "source": [
    "import os\n",
    "import shlex, subprocess\n",
    "import matplotlib.pyplot as plt\n",
    "import numpy as np\n",
    "from astropy.io import fits\n",
    "from lsst.resources import ResourcePath"
   ]
  },
  {
   "cell_type": "code",
   "execution_count": 1,
   "id": "c861dde2-ab26-476b-affe-38a1b9161e46",
   "metadata": {
    "execution": {
     "iopub.execute_input": "2025-04-14T20:03:47.288662Z",
     "iopub.status.busy": "2025-04-14T20:03:47.288332Z",
     "iopub.status.idle": "2025-04-14T20:03:47.293130Z",
     "shell.execute_reply": "2025-04-14T20:03:47.292731Z",
     "shell.execute_reply.started": "2025-04-14T20:03:47.288642Z"
    }
   },
   "outputs": [],
   "source": [
    "def getMainHeaderInfo(hdu_list):\n",
    "    hdr0 = hdu_list[0].header\n",
    "    roiCols = hdr0['ROICOLS']\n",
    "    roiRows = hdr0['ROIROWS']\n",
    "    try:\n",
    "        roiUnder = hdr0['ROIUNDRC']\n",
    "    except:\n",
    "        roiUnder = 6\n",
    "    nStamps = hdr0['N_STAMPS']\n",
    "    \n",
    "    # Set the xor value - Guider CCDs are different from science CCDs\n",
    "    if raft in ['R00', 'R04', 'R40', 'R44']:\n",
    "        # Guider rafts\n",
    "        xor = 0x20000\n",
    "    else:\n",
    "        # Science rafts\n",
    "        xor = 0x1ffff\n",
    "    return [roiRows, roiCols, roiUnder, nStamps, xor]\n",
    "\n",
    "def unpackStamps(hduNum):\n",
    "    data = np.array(hdu_list[hduNum].data[0]).astype('>u4')[0]\n",
    "    data.byteswap(inplace=True)\n",
    "    totalCols = roiCols + roiUnder\n",
    "    size = roiRows * totalCols\n",
    "    out = np.zeros([16, size], dtype=int)\n",
    "    image_out = np.zeros([16, roiRows, roiCols], dtype=int)\n",
    "    for n in range(size):\n",
    "        # Get 9 32 bit words of data\n",
    "        res = ''\n",
    "        for i in range(9):\n",
    "            d = data[(size - n) * 9 - i - 1]\n",
    "            d = format(d, '#034b')\n",
    "            d = d.split('b')[1]\n",
    "            res += d\n",
    "        # Now extract 16 18 bit words from the data\n",
    "        for i in range(16):\n",
    "            bin_value = res[i * 18:(i + 1) * 18]\n",
    "            int_value = int(bin_value, 2)\n",
    "            final_value = int_value ^ xor\n",
    "            out[i,n] = final_value  \n",
    "    for i in range(16):\n",
    "        reshaped = out[i,:].reshape(roiRows, totalCols)\n",
    "        image_out[i,:,:] = np.flipud(np.fliplr(reshaped[:,0:roiCols]))\n",
    "    return image_out"
   ]
  },
  {
   "cell_type": "code",
   "execution_count": 2,
   "id": "7051b07a-49ac-4aeb-9c0f-1bd992dfeedc",
   "metadata": {
    "execution": {
     "iopub.execute_input": "2025-04-14T20:04:23.178621Z",
     "iopub.status.busy": "2025-04-14T20:04:23.178273Z",
     "iopub.status.idle": "2025-04-14T20:04:23.181321Z",
     "shell.execute_reply": "2025-04-14T20:04:23.180934Z",
     "shell.execute_reply.started": "2025-04-14T20:04:23.178603Z"
    }
   },
   "outputs": [],
   "source": [
    "# Set the scaling\n",
    "autoscale = False\n",
    "# Scale to use if autoscale = False\n",
    "vmin = 14500\n",
    "vmax = 15000\n",
    "# Set dayObs, seqNum\n",
    "dayObs = 20250410\n",
    "seqNum = 8"
   ]
  },
  {
   "cell_type": "code",
   "execution_count": 6,
   "id": "965ff289-c5dc-4a0b-b6d6-c4ab6db1e77c",
   "metadata": {
    "execution": {
     "iopub.execute_input": "2025-04-12T21:02:04.010249Z",
     "iopub.status.busy": "2025-04-12T21:02:04.009916Z",
     "iopub.status.idle": "2025-04-12T21:02:23.788231Z",
     "shell.execute_reply": "2025-04-12T21:02:23.787838Z",
     "shell.execute_reply.started": "2025-04-12T21:02:04.010229Z"
    },
    "scrolled": true
   },
   "outputs": [
    {
     "data": {
      "text/html": [
       "<pre style=\"margin: 0.1em;\n",
       "padding-left: 0.25em;\n",
       "border-left-style: solid;\n",
       "font-family: var(--jp-code-font-family);\n",
       "font-size: var(--jp-code-font-size);\n",
       "line-height: var(--jp-code-line-height);\n",
       "\"><span style=\"color: var(--jp-warn-color2)\">botocore.credentials</span> <span style=\"color: var(--jp-info-color0)\">INFO</span>: Found credentials in shared credentials file: /home/c/cslage/.lsst/aws-credentials.ini</pre>"
      ],
      "text/plain": [
       "<IPython.core.display.HTML object>"
      ]
     },
     "metadata": {},
     "output_type": "display_data"
    },
    {
     "data": {
      "text/html": [
       "<pre style=\"margin: 0.1em;\n",
       "padding-left: 0.25em;\n",
       "border-left-style: solid;\n",
       "font-family: var(--jp-code-font-family);\n",
       "font-size: var(--jp-code-font-size);\n",
       "line-height: var(--jp-code-line-height);\n",
       "\"><span style=\"color: var(--jp-warn-color2)\">botocore.httpchecksum</span> <span style=\"color: var(--jp-info-color0)\">INFO</span>: Skipping checksum validation. Response did not contain one of the following algorithms: [&#x27;crc32&#x27;, &#x27;sha1&#x27;, &#x27;sha256&#x27;].</pre>"
      ],
      "text/plain": [
       "<IPython.core.display.HTML object>"
      ]
     },
     "metadata": {},
     "output_type": "display_data"
    },
    {
     "data": {
      "text/html": [
       "<pre style=\"margin: 0.1em;\n",
       "padding-left: 0.25em;\n",
       "border-left-style: solid;\n",
       "font-family: var(--jp-code-font-family);\n",
       "font-size: var(--jp-code-font-size);\n",
       "line-height: var(--jp-code-line-height);\n",
       "\"><span style=\"color: var(--jp-warn-color2)\">botocore.httpchecksum</span> <span style=\"color: var(--jp-info-color0)\">INFO</span>: Skipping checksum validation. Response did not contain one of the following algorithms: [&#x27;crc32&#x27;, &#x27;sha1&#x27;, &#x27;sha256&#x27;].</pre>"
      ],
      "text/plain": [
       "<IPython.core.display.HTML object>"
      ]
     },
     "metadata": {},
     "output_type": "display_data"
    },
    {
     "data": {
      "text/html": [
       "<pre style=\"margin: 0.1em;\n",
       "padding-left: 0.25em;\n",
       "border-left-style: solid;\n",
       "font-family: var(--jp-code-font-family);\n",
       "font-size: var(--jp-code-font-size);\n",
       "line-height: var(--jp-code-line-height);\n",
       "\"><span style=\"color: var(--jp-warn-color2)\">botocore.httpchecksum</span> <span style=\"color: var(--jp-info-color0)\">INFO</span>: Skipping checksum validation. Response did not contain one of the following algorithms: [&#x27;crc32&#x27;, &#x27;sha1&#x27;, &#x27;sha256&#x27;].</pre>"
      ],
      "text/plain": [
       "<IPython.core.display.HTML object>"
      ]
     },
     "metadata": {},
     "output_type": "display_data"
    },
    {
     "data": {
      "text/html": [
       "<pre style=\"margin: 0.1em;\n",
       "padding-left: 0.25em;\n",
       "border-left-style: solid;\n",
       "font-family: var(--jp-code-font-family);\n",
       "font-size: var(--jp-code-font-size);\n",
       "line-height: var(--jp-code-line-height);\n",
       "\"><span style=\"color: var(--jp-warn-color2)\">botocore.httpchecksum</span> <span style=\"color: var(--jp-info-color0)\">INFO</span>: Skipping checksum validation. Response did not contain one of the following algorithms: [&#x27;crc32&#x27;, &#x27;sha1&#x27;, &#x27;sha256&#x27;].</pre>"
      ],
      "text/plain": [
       "<IPython.core.display.HTML object>"
      ]
     },
     "metadata": {},
     "output_type": "display_data"
    },
    {
     "data": {
      "text/html": [
       "<pre style=\"margin: 0.1em;\n",
       "padding-left: 0.25em;\n",
       "border-left-style: solid;\n",
       "font-family: var(--jp-code-font-family);\n",
       "font-size: var(--jp-code-font-size);\n",
       "line-height: var(--jp-code-line-height);\n",
       "\"><span style=\"color: var(--jp-warn-color2)\">botocore.httpchecksum</span> <span style=\"color: var(--jp-info-color0)\">INFO</span>: Skipping checksum validation. Response did not contain one of the following algorithms: [&#x27;crc32&#x27;, &#x27;sha1&#x27;, &#x27;sha256&#x27;].</pre>"
      ],
      "text/plain": [
       "<IPython.core.display.HTML object>"
      ]
     },
     "metadata": {},
     "output_type": "display_data"
    },
    {
     "name": "stdout",
     "output_type": "stream",
     "text": [
      "Guider_2025041000008.mp4\n"
     ]
    },
    {
     "data": {
      "text/html": [
       "<pre style=\"margin: 0.1em;\n",
       "padding-left: 0.25em;\n",
       "border-left-style: solid;\n",
       "font-family: var(--jp-code-font-family);\n",
       "font-size: var(--jp-code-font-size);\n",
       "line-height: var(--jp-code-line-height);\n",
       "\"><span style=\"color: var(--jp-warn-color2)\">botocore.httpchecksum</span> <span style=\"color: var(--jp-info-color0)\">INFO</span>: Skipping checksum validation. Response did not contain one of the following algorithms: [&#x27;crc32&#x27;, &#x27;sha1&#x27;, &#x27;sha256&#x27;].</pre>"
      ],
      "text/plain": [
       "<IPython.core.display.HTML object>"
      ]
     },
     "metadata": {},
     "output_type": "display_data"
    },
    {
     "data": {
      "text/html": [
       "<pre style=\"margin: 0.1em;\n",
       "padding-left: 0.25em;\n",
       "border-left-style: solid;\n",
       "font-family: var(--jp-code-font-family);\n",
       "font-size: var(--jp-code-font-size);\n",
       "line-height: var(--jp-code-line-height);\n",
       "\"><span style=\"color: var(--jp-warn-color2)\">botocore.httpchecksum</span> <span style=\"color: var(--jp-info-color0)\">INFO</span>: Skipping checksum validation. Response did not contain one of the following algorithms: [&#x27;crc32&#x27;, &#x27;sha1&#x27;, &#x27;sha256&#x27;].</pre>"
      ],
      "text/plain": [
       "<IPython.core.display.HTML object>"
      ]
     },
     "metadata": {},
     "output_type": "display_data"
    },
    {
     "data": {
      "text/html": [
       "<pre style=\"margin: 0.1em;\n",
       "padding-left: 0.25em;\n",
       "border-left-style: solid;\n",
       "font-family: var(--jp-code-font-family);\n",
       "font-size: var(--jp-code-font-size);\n",
       "line-height: var(--jp-code-line-height);\n",
       "\"><span style=\"color: var(--jp-warn-color2)\">botocore.httpchecksum</span> <span style=\"color: var(--jp-info-color0)\">INFO</span>: Skipping checksum validation. Response did not contain one of the following algorithms: [&#x27;crc32&#x27;, &#x27;sha1&#x27;, &#x27;sha256&#x27;].</pre>"
      ],
      "text/plain": [
       "<IPython.core.display.HTML object>"
      ]
     },
     "metadata": {},
     "output_type": "display_data"
    },
    {
     "data": {
      "text/html": [
       "<pre style=\"margin: 0.1em;\n",
       "padding-left: 0.25em;\n",
       "border-left-style: solid;\n",
       "font-family: var(--jp-code-font-family);\n",
       "font-size: var(--jp-code-font-size);\n",
       "line-height: var(--jp-code-line-height);\n",
       "\"><span style=\"color: var(--jp-warn-color2)\">botocore.httpchecksum</span> <span style=\"color: var(--jp-info-color0)\">INFO</span>: Skipping checksum validation. Response did not contain one of the following algorithms: [&#x27;crc32&#x27;, &#x27;sha1&#x27;, &#x27;sha256&#x27;].</pre>"
      ],
      "text/plain": [
       "<IPython.core.display.HTML object>"
      ]
     },
     "metadata": {},
     "output_type": "display_data"
    },
    {
     "data": {
      "text/html": [
       "<pre style=\"margin: 0.1em;\n",
       "padding-left: 0.25em;\n",
       "border-left-style: solid;\n",
       "font-family: var(--jp-code-font-family);\n",
       "font-size: var(--jp-code-font-size);\n",
       "line-height: var(--jp-code-line-height);\n",
       "\"><span style=\"color: var(--jp-warn-color2)\">botocore.httpchecksum</span> <span style=\"color: var(--jp-info-color0)\">INFO</span>: Skipping checksum validation. Response did not contain one of the following algorithms: [&#x27;crc32&#x27;, &#x27;sha1&#x27;, &#x27;sha256&#x27;].</pre>"
      ],
      "text/plain": [
       "<IPython.core.display.HTML object>"
      ]
     },
     "metadata": {},
     "output_type": "display_data"
    },
    {
     "data": {
      "text/html": [
       "<pre style=\"margin: 0.1em;\n",
       "padding-left: 0.25em;\n",
       "border-left-style: solid;\n",
       "font-family: var(--jp-code-font-family);\n",
       "font-size: var(--jp-code-font-size);\n",
       "line-height: var(--jp-code-line-height);\n",
       "\"><span style=\"color: var(--jp-warn-color2)\">botocore.httpchecksum</span> <span style=\"color: var(--jp-info-color0)\">INFO</span>: Skipping checksum validation. Response did not contain one of the following algorithms: [&#x27;crc32&#x27;, &#x27;sha1&#x27;, &#x27;sha256&#x27;].</pre>"
      ],
      "text/plain": [
       "<IPython.core.display.HTML object>"
      ]
     },
     "metadata": {},
     "output_type": "display_data"
    },
    {
     "data": {
      "text/html": [
       "<pre style=\"margin: 0.1em;\n",
       "padding-left: 0.25em;\n",
       "border-left-style: solid;\n",
       "font-family: var(--jp-code-font-family);\n",
       "font-size: var(--jp-code-font-size);\n",
       "line-height: var(--jp-code-line-height);\n",
       "\"><span style=\"color: var(--jp-warn-color2)\">botocore.httpchecksum</span> <span style=\"color: var(--jp-info-color0)\">INFO</span>: Skipping checksum validation. Response did not contain one of the following algorithms: [&#x27;crc32&#x27;, &#x27;sha1&#x27;, &#x27;sha256&#x27;].</pre>"
      ],
      "text/plain": [
       "<IPython.core.display.HTML object>"
      ]
     },
     "metadata": {},
     "output_type": "display_data"
    },
    {
     "data": {
      "text/html": [
       "<pre style=\"margin: 0.1em;\n",
       "padding-left: 0.25em;\n",
       "border-left-style: solid;\n",
       "font-family: var(--jp-code-font-family);\n",
       "font-size: var(--jp-code-font-size);\n",
       "line-height: var(--jp-code-line-height);\n",
       "\"><span style=\"color: var(--jp-warn-color2)\">botocore.httpchecksum</span> <span style=\"color: var(--jp-info-color0)\">INFO</span>: Skipping checksum validation. Response did not contain one of the following algorithms: [&#x27;crc32&#x27;, &#x27;sha1&#x27;, &#x27;sha256&#x27;].</pre>"
      ],
      "text/plain": [
       "<IPython.core.display.HTML object>"
      ]
     },
     "metadata": {},
     "output_type": "display_data"
    },
    {
     "data": {
      "text/html": [
       "<pre style=\"margin: 0.1em;\n",
       "padding-left: 0.25em;\n",
       "border-left-style: solid;\n",
       "font-family: var(--jp-code-font-family);\n",
       "font-size: var(--jp-code-font-size);\n",
       "line-height: var(--jp-code-line-height);\n",
       "\"><span style=\"color: var(--jp-warn-color2)\">botocore.httpchecksum</span> <span style=\"color: var(--jp-info-color0)\">INFO</span>: Skipping checksum validation. Response did not contain one of the following algorithms: [&#x27;crc32&#x27;, &#x27;sha1&#x27;, &#x27;sha256&#x27;].</pre>"
      ],
      "text/plain": [
       "<IPython.core.display.HTML object>"
      ]
     },
     "metadata": {},
     "output_type": "display_data"
    },
    {
     "data": {
      "text/html": [
       "<pre style=\"margin: 0.1em;\n",
       "padding-left: 0.25em;\n",
       "border-left-style: solid;\n",
       "font-family: var(--jp-code-font-family);\n",
       "font-size: var(--jp-code-font-size);\n",
       "line-height: var(--jp-code-line-height);\n",
       "\"><span style=\"color: var(--jp-warn-color2)\">botocore.httpchecksum</span> <span style=\"color: var(--jp-info-color0)\">INFO</span>: Skipping checksum validation. Response did not contain one of the following algorithms: [&#x27;crc32&#x27;, &#x27;sha1&#x27;, &#x27;sha256&#x27;].</pre>"
      ],
      "text/plain": [
       "<IPython.core.display.HTML object>"
      ]
     },
     "metadata": {},
     "output_type": "display_data"
    },
    {
     "name": "stdout",
     "output_type": "stream",
     "text": [
      "R00 SG0 0 20 9\n",
      "R00 SG0 1 19 9\n",
      "R00 SG0 2 18 9\n",
      "R00 SG0 3 17 9\n",
      "R00 SG0 4 16 9\n",
      "R00 SG0 5 15 9\n",
      "R00 SG0 6 14 9\n",
      "R00 SG0 7 13 9\n",
      "R00 SG0 8 20 8\n",
      "R00 SG0 9 19 8\n",
      "R00 SG0 10 18 8\n",
      "R00 SG0 11 17 8\n",
      "R00 SG0 12 16 8\n",
      "R00 SG0 13 15 8\n",
      "R00 SG0 14 14 8\n",
      "R00 SG0 15 13 8\n"
     ]
    },
    {
     "data": {
      "text/html": [
       "<pre style=\"margin: 0.1em;\n",
       "padding-left: 0.25em;\n",
       "border-left-style: solid;\n",
       "font-family: var(--jp-code-font-family);\n",
       "font-size: var(--jp-code-font-size);\n",
       "line-height: var(--jp-code-line-height);\n",
       "\"><span style=\"color: var(--jp-warn-color2)\">botocore.httpchecksum</span> <span style=\"color: var(--jp-info-color0)\">INFO</span>: Skipping checksum validation. Response did not contain one of the following algorithms: [&#x27;crc32&#x27;, &#x27;sha1&#x27;, &#x27;sha256&#x27;].</pre>"
      ],
      "text/plain": [
       "<IPython.core.display.HTML object>"
      ]
     },
     "metadata": {},
     "output_type": "display_data"
    },
    {
     "data": {
      "text/html": [
       "<pre style=\"margin: 0.1em;\n",
       "padding-left: 0.25em;\n",
       "border-left-style: solid;\n",
       "font-family: var(--jp-code-font-family);\n",
       "font-size: var(--jp-code-font-size);\n",
       "line-height: var(--jp-code-line-height);\n",
       "\"><span style=\"color: var(--jp-warn-color2)\">botocore.httpchecksum</span> <span style=\"color: var(--jp-info-color0)\">INFO</span>: Skipping checksum validation. Response did not contain one of the following algorithms: [&#x27;crc32&#x27;, &#x27;sha1&#x27;, &#x27;sha256&#x27;].</pre>"
      ],
      "text/plain": [
       "<IPython.core.display.HTML object>"
      ]
     },
     "metadata": {},
     "output_type": "display_data"
    },
    {
     "data": {
      "text/html": [
       "<pre style=\"margin: 0.1em;\n",
       "padding-left: 0.25em;\n",
       "border-left-style: solid;\n",
       "font-family: var(--jp-code-font-family);\n",
       "font-size: var(--jp-code-font-size);\n",
       "line-height: var(--jp-code-line-height);\n",
       "\"><span style=\"color: var(--jp-warn-color2)\">botocore.httpchecksum</span> <span style=\"color: var(--jp-info-color0)\">INFO</span>: Skipping checksum validation. Response did not contain one of the following algorithms: [&#x27;crc32&#x27;, &#x27;sha1&#x27;, &#x27;sha256&#x27;].</pre>"
      ],
      "text/plain": [
       "<IPython.core.display.HTML object>"
      ]
     },
     "metadata": {},
     "output_type": "display_data"
    },
    {
     "data": {
      "text/html": [
       "<pre style=\"margin: 0.1em;\n",
       "padding-left: 0.25em;\n",
       "border-left-style: solid;\n",
       "font-family: var(--jp-code-font-family);\n",
       "font-size: var(--jp-code-font-size);\n",
       "line-height: var(--jp-code-line-height);\n",
       "\"><span style=\"color: var(--jp-warn-color2)\">botocore.httpchecksum</span> <span style=\"color: var(--jp-info-color0)\">INFO</span>: Skipping checksum validation. Response did not contain one of the following algorithms: [&#x27;crc32&#x27;, &#x27;sha1&#x27;, &#x27;sha256&#x27;].</pre>"
      ],
      "text/plain": [
       "<IPython.core.display.HTML object>"
      ]
     },
     "metadata": {},
     "output_type": "display_data"
    },
    {
     "data": {
      "text/html": [
       "<pre style=\"margin: 0.1em;\n",
       "padding-left: 0.25em;\n",
       "border-left-style: solid;\n",
       "font-family: var(--jp-code-font-family);\n",
       "font-size: var(--jp-code-font-size);\n",
       "line-height: var(--jp-code-line-height);\n",
       "\"><span style=\"color: var(--jp-warn-color2)\">botocore.httpchecksum</span> <span style=\"color: var(--jp-info-color0)\">INFO</span>: Skipping checksum validation. Response did not contain one of the following algorithms: [&#x27;crc32&#x27;, &#x27;sha1&#x27;, &#x27;sha256&#x27;].</pre>"
      ],
      "text/plain": [
       "<IPython.core.display.HTML object>"
      ]
     },
     "metadata": {},
     "output_type": "display_data"
    },
    {
     "data": {
      "text/html": [
       "<pre style=\"margin: 0.1em;\n",
       "padding-left: 0.25em;\n",
       "border-left-style: solid;\n",
       "font-family: var(--jp-code-font-family);\n",
       "font-size: var(--jp-code-font-size);\n",
       "line-height: var(--jp-code-line-height);\n",
       "\"><span style=\"color: var(--jp-warn-color2)\">botocore.httpchecksum</span> <span style=\"color: var(--jp-info-color0)\">INFO</span>: Skipping checksum validation. Response did not contain one of the following algorithms: [&#x27;crc32&#x27;, &#x27;sha1&#x27;, &#x27;sha256&#x27;].</pre>"
      ],
      "text/plain": [
       "<IPython.core.display.HTML object>"
      ]
     },
     "metadata": {},
     "output_type": "display_data"
    },
    {
     "data": {
      "text/html": [
       "<pre style=\"margin: 0.1em;\n",
       "padding-left: 0.25em;\n",
       "border-left-style: solid;\n",
       "font-family: var(--jp-code-font-family);\n",
       "font-size: var(--jp-code-font-size);\n",
       "line-height: var(--jp-code-line-height);\n",
       "\"><span style=\"color: var(--jp-warn-color2)\">botocore.httpchecksum</span> <span style=\"color: var(--jp-info-color0)\">INFO</span>: Skipping checksum validation. Response did not contain one of the following algorithms: [&#x27;crc32&#x27;, &#x27;sha1&#x27;, &#x27;sha256&#x27;].</pre>"
      ],
      "text/plain": [
       "<IPython.core.display.HTML object>"
      ]
     },
     "metadata": {},
     "output_type": "display_data"
    },
    {
     "data": {
      "text/html": [
       "<pre style=\"margin: 0.1em;\n",
       "padding-left: 0.25em;\n",
       "border-left-style: solid;\n",
       "font-family: var(--jp-code-font-family);\n",
       "font-size: var(--jp-code-font-size);\n",
       "line-height: var(--jp-code-line-height);\n",
       "\"><span style=\"color: var(--jp-warn-color2)\">botocore.httpchecksum</span> <span style=\"color: var(--jp-info-color0)\">INFO</span>: Skipping checksum validation. Response did not contain one of the following algorithms: [&#x27;crc32&#x27;, &#x27;sha1&#x27;, &#x27;sha256&#x27;].</pre>"
      ],
      "text/plain": [
       "<IPython.core.display.HTML object>"
      ]
     },
     "metadata": {},
     "output_type": "display_data"
    },
    {
     "data": {
      "text/html": [
       "<pre style=\"margin: 0.1em;\n",
       "padding-left: 0.25em;\n",
       "border-left-style: solid;\n",
       "font-family: var(--jp-code-font-family);\n",
       "font-size: var(--jp-code-font-size);\n",
       "line-height: var(--jp-code-line-height);\n",
       "\"><span style=\"color: var(--jp-warn-color2)\">botocore.httpchecksum</span> <span style=\"color: var(--jp-info-color0)\">INFO</span>: Skipping checksum validation. Response did not contain one of the following algorithms: [&#x27;crc32&#x27;, &#x27;sha1&#x27;, &#x27;sha256&#x27;].</pre>"
      ],
      "text/plain": [
       "<IPython.core.display.HTML object>"
      ]
     },
     "metadata": {},
     "output_type": "display_data"
    },
    {
     "data": {
      "text/html": [
       "<pre style=\"margin: 0.1em;\n",
       "padding-left: 0.25em;\n",
       "border-left-style: solid;\n",
       "font-family: var(--jp-code-font-family);\n",
       "font-size: var(--jp-code-font-size);\n",
       "line-height: var(--jp-code-line-height);\n",
       "\"><span style=\"color: var(--jp-warn-color2)\">botocore.httpchecksum</span> <span style=\"color: var(--jp-info-color0)\">INFO</span>: Skipping checksum validation. Response did not contain one of the following algorithms: [&#x27;crc32&#x27;, &#x27;sha1&#x27;, &#x27;sha256&#x27;].</pre>"
      ],
      "text/plain": [
       "<IPython.core.display.HTML object>"
      ]
     },
     "metadata": {},
     "output_type": "display_data"
    },
    {
     "name": "stdout",
     "output_type": "stream",
     "text": [
      "R00 SG1 0 12 0\n",
      "R00 SG1 1 12 1\n",
      "R00 SG1 2 12 2\n",
      "R00 SG1 3 12 3\n",
      "R00 SG1 4 12 4\n",
      "R00 SG1 5 12 5\n",
      "R00 SG1 6 12 6\n",
      "R00 SG1 7 12 7\n",
      "R00 SG1 8 11 0\n",
      "R00 SG1 9 11 1\n",
      "R00 SG1 10 11 2\n",
      "R00 SG1 11 11 3\n",
      "R00 SG1 12 11 4\n",
      "R00 SG1 13 11 5\n",
      "R00 SG1 14 11 6\n",
      "R00 SG1 15 11 7\n"
     ]
    },
    {
     "data": {
      "text/html": [
       "<pre style=\"margin: 0.1em;\n",
       "padding-left: 0.25em;\n",
       "border-left-style: solid;\n",
       "font-family: var(--jp-code-font-family);\n",
       "font-size: var(--jp-code-font-size);\n",
       "line-height: var(--jp-code-line-height);\n",
       "\"><span style=\"color: var(--jp-warn-color2)\">botocore.httpchecksum</span> <span style=\"color: var(--jp-info-color0)\">INFO</span>: Skipping checksum validation. Response did not contain one of the following algorithms: [&#x27;crc32&#x27;, &#x27;sha1&#x27;, &#x27;sha256&#x27;].</pre>"
      ],
      "text/plain": [
       "<IPython.core.display.HTML object>"
      ]
     },
     "metadata": {},
     "output_type": "display_data"
    },
    {
     "data": {
      "text/html": [
       "<pre style=\"margin: 0.1em;\n",
       "padding-left: 0.25em;\n",
       "border-left-style: solid;\n",
       "font-family: var(--jp-code-font-family);\n",
       "font-size: var(--jp-code-font-size);\n",
       "line-height: var(--jp-code-line-height);\n",
       "\"><span style=\"color: var(--jp-warn-color2)\">botocore.httpchecksum</span> <span style=\"color: var(--jp-info-color0)\">INFO</span>: Skipping checksum validation. Response did not contain one of the following algorithms: [&#x27;crc32&#x27;, &#x27;sha1&#x27;, &#x27;sha256&#x27;].</pre>"
      ],
      "text/plain": [
       "<IPython.core.display.HTML object>"
      ]
     },
     "metadata": {},
     "output_type": "display_data"
    },
    {
     "data": {
      "text/html": [
       "<pre style=\"margin: 0.1em;\n",
       "padding-left: 0.25em;\n",
       "border-left-style: solid;\n",
       "font-family: var(--jp-code-font-family);\n",
       "font-size: var(--jp-code-font-size);\n",
       "line-height: var(--jp-code-line-height);\n",
       "\"><span style=\"color: var(--jp-warn-color2)\">botocore.httpchecksum</span> <span style=\"color: var(--jp-info-color0)\">INFO</span>: Skipping checksum validation. Response did not contain one of the following algorithms: [&#x27;crc32&#x27;, &#x27;sha1&#x27;, &#x27;sha256&#x27;].</pre>"
      ],
      "text/plain": [
       "<IPython.core.display.HTML object>"
      ]
     },
     "metadata": {},
     "output_type": "display_data"
    },
    {
     "data": {
      "text/html": [
       "<pre style=\"margin: 0.1em;\n",
       "padding-left: 0.25em;\n",
       "border-left-style: solid;\n",
       "font-family: var(--jp-code-font-family);\n",
       "font-size: var(--jp-code-font-size);\n",
       "line-height: var(--jp-code-line-height);\n",
       "\"><span style=\"color: var(--jp-warn-color2)\">botocore.httpchecksum</span> <span style=\"color: var(--jp-info-color0)\">INFO</span>: Skipping checksum validation. Response did not contain one of the following algorithms: [&#x27;crc32&#x27;, &#x27;sha1&#x27;, &#x27;sha256&#x27;].</pre>"
      ],
      "text/plain": [
       "<IPython.core.display.HTML object>"
      ]
     },
     "metadata": {},
     "output_type": "display_data"
    },
    {
     "data": {
      "text/html": [
       "<pre style=\"margin: 0.1em;\n",
       "padding-left: 0.25em;\n",
       "border-left-style: solid;\n",
       "font-family: var(--jp-code-font-family);\n",
       "font-size: var(--jp-code-font-size);\n",
       "line-height: var(--jp-code-line-height);\n",
       "\"><span style=\"color: var(--jp-warn-color2)\">botocore.httpchecksum</span> <span style=\"color: var(--jp-info-color0)\">INFO</span>: Skipping checksum validation. Response did not contain one of the following algorithms: [&#x27;crc32&#x27;, &#x27;sha1&#x27;, &#x27;sha256&#x27;].</pre>"
      ],
      "text/plain": [
       "<IPython.core.display.HTML object>"
      ]
     },
     "metadata": {},
     "output_type": "display_data"
    },
    {
     "data": {
      "text/html": [
       "<pre style=\"margin: 0.1em;\n",
       "padding-left: 0.25em;\n",
       "border-left-style: solid;\n",
       "font-family: var(--jp-code-font-family);\n",
       "font-size: var(--jp-code-font-size);\n",
       "line-height: var(--jp-code-line-height);\n",
       "\"><span style=\"color: var(--jp-warn-color2)\">botocore.httpchecksum</span> <span style=\"color: var(--jp-info-color0)\">INFO</span>: Skipping checksum validation. Response did not contain one of the following algorithms: [&#x27;crc32&#x27;, &#x27;sha1&#x27;, &#x27;sha256&#x27;].</pre>"
      ],
      "text/plain": [
       "<IPython.core.display.HTML object>"
      ]
     },
     "metadata": {},
     "output_type": "display_data"
    },
    {
     "data": {
      "text/html": [
       "<pre style=\"margin: 0.1em;\n",
       "padding-left: 0.25em;\n",
       "border-left-style: solid;\n",
       "font-family: var(--jp-code-font-family);\n",
       "font-size: var(--jp-code-font-size);\n",
       "line-height: var(--jp-code-line-height);\n",
       "\"><span style=\"color: var(--jp-warn-color2)\">botocore.httpchecksum</span> <span style=\"color: var(--jp-info-color0)\">INFO</span>: Skipping checksum validation. Response did not contain one of the following algorithms: [&#x27;crc32&#x27;, &#x27;sha1&#x27;, &#x27;sha256&#x27;].</pre>"
      ],
      "text/plain": [
       "<IPython.core.display.HTML object>"
      ]
     },
     "metadata": {},
     "output_type": "display_data"
    },
    {
     "data": {
      "text/html": [
       "<pre style=\"margin: 0.1em;\n",
       "padding-left: 0.25em;\n",
       "border-left-style: solid;\n",
       "font-family: var(--jp-code-font-family);\n",
       "font-size: var(--jp-code-font-size);\n",
       "line-height: var(--jp-code-line-height);\n",
       "\"><span style=\"color: var(--jp-warn-color2)\">botocore.httpchecksum</span> <span style=\"color: var(--jp-info-color0)\">INFO</span>: Skipping checksum validation. Response did not contain one of the following algorithms: [&#x27;crc32&#x27;, &#x27;sha1&#x27;, &#x27;sha256&#x27;].</pre>"
      ],
      "text/plain": [
       "<IPython.core.display.HTML object>"
      ]
     },
     "metadata": {},
     "output_type": "display_data"
    },
    {
     "data": {
      "text/html": [
       "<pre style=\"margin: 0.1em;\n",
       "padding-left: 0.25em;\n",
       "border-left-style: solid;\n",
       "font-family: var(--jp-code-font-family);\n",
       "font-size: var(--jp-code-font-size);\n",
       "line-height: var(--jp-code-line-height);\n",
       "\"><span style=\"color: var(--jp-warn-color2)\">botocore.httpchecksum</span> <span style=\"color: var(--jp-info-color0)\">INFO</span>: Skipping checksum validation. Response did not contain one of the following algorithms: [&#x27;crc32&#x27;, &#x27;sha1&#x27;, &#x27;sha256&#x27;].</pre>"
      ],
      "text/plain": [
       "<IPython.core.display.HTML object>"
      ]
     },
     "metadata": {},
     "output_type": "display_data"
    },
    {
     "data": {
      "text/html": [
       "<pre style=\"margin: 0.1em;\n",
       "padding-left: 0.25em;\n",
       "border-left-style: solid;\n",
       "font-family: var(--jp-code-font-family);\n",
       "font-size: var(--jp-code-font-size);\n",
       "line-height: var(--jp-code-line-height);\n",
       "\"><span style=\"color: var(--jp-warn-color2)\">botocore.httpchecksum</span> <span style=\"color: var(--jp-info-color0)\">INFO</span>: Skipping checksum validation. Response did not contain one of the following algorithms: [&#x27;crc32&#x27;, &#x27;sha1&#x27;, &#x27;sha256&#x27;].</pre>"
      ],
      "text/plain": [
       "<IPython.core.display.HTML object>"
      ]
     },
     "metadata": {},
     "output_type": "display_data"
    },
    {
     "name": "stdout",
     "output_type": "stream",
     "text": [
      "R04 SG0 0 11 20\n",
      "R04 SG0 1 11 19\n",
      "R04 SG0 2 11 18\n",
      "R04 SG0 3 11 17\n",
      "R04 SG0 4 11 16\n",
      "R04 SG0 5 11 15\n",
      "R04 SG0 6 11 14\n",
      "R04 SG0 7 11 13\n",
      "R04 SG0 8 12 20\n",
      "R04 SG0 9 12 19\n",
      "R04 SG0 10 12 18\n",
      "R04 SG0 11 12 17\n",
      "R04 SG0 12 12 16\n",
      "R04 SG0 13 12 15\n",
      "R04 SG0 14 12 14\n",
      "R04 SG0 15 12 13\n"
     ]
    },
    {
     "data": {
      "text/html": [
       "<pre style=\"margin: 0.1em;\n",
       "padding-left: 0.25em;\n",
       "border-left-style: solid;\n",
       "font-family: var(--jp-code-font-family);\n",
       "font-size: var(--jp-code-font-size);\n",
       "line-height: var(--jp-code-line-height);\n",
       "\"><span style=\"color: var(--jp-warn-color2)\">botocore.httpchecksum</span> <span style=\"color: var(--jp-info-color0)\">INFO</span>: Skipping checksum validation. Response did not contain one of the following algorithms: [&#x27;crc32&#x27;, &#x27;sha1&#x27;, &#x27;sha256&#x27;].</pre>"
      ],
      "text/plain": [
       "<IPython.core.display.HTML object>"
      ]
     },
     "metadata": {},
     "output_type": "display_data"
    },
    {
     "data": {
      "text/html": [
       "<pre style=\"margin: 0.1em;\n",
       "padding-left: 0.25em;\n",
       "border-left-style: solid;\n",
       "font-family: var(--jp-code-font-family);\n",
       "font-size: var(--jp-code-font-size);\n",
       "line-height: var(--jp-code-line-height);\n",
       "\"><span style=\"color: var(--jp-warn-color2)\">botocore.httpchecksum</span> <span style=\"color: var(--jp-info-color0)\">INFO</span>: Skipping checksum validation. Response did not contain one of the following algorithms: [&#x27;crc32&#x27;, &#x27;sha1&#x27;, &#x27;sha256&#x27;].</pre>"
      ],
      "text/plain": [
       "<IPython.core.display.HTML object>"
      ]
     },
     "metadata": {},
     "output_type": "display_data"
    },
    {
     "data": {
      "text/html": [
       "<pre style=\"margin: 0.1em;\n",
       "padding-left: 0.25em;\n",
       "border-left-style: solid;\n",
       "font-family: var(--jp-code-font-family);\n",
       "font-size: var(--jp-code-font-size);\n",
       "line-height: var(--jp-code-line-height);\n",
       "\"><span style=\"color: var(--jp-warn-color2)\">botocore.httpchecksum</span> <span style=\"color: var(--jp-info-color0)\">INFO</span>: Skipping checksum validation. Response did not contain one of the following algorithms: [&#x27;crc32&#x27;, &#x27;sha1&#x27;, &#x27;sha256&#x27;].</pre>"
      ],
      "text/plain": [
       "<IPython.core.display.HTML object>"
      ]
     },
     "metadata": {},
     "output_type": "display_data"
    },
    {
     "data": {
      "text/html": [
       "<pre style=\"margin: 0.1em;\n",
       "padding-left: 0.25em;\n",
       "border-left-style: solid;\n",
       "font-family: var(--jp-code-font-family);\n",
       "font-size: var(--jp-code-font-size);\n",
       "line-height: var(--jp-code-line-height);\n",
       "\"><span style=\"color: var(--jp-warn-color2)\">botocore.httpchecksum</span> <span style=\"color: var(--jp-info-color0)\">INFO</span>: Skipping checksum validation. Response did not contain one of the following algorithms: [&#x27;crc32&#x27;, &#x27;sha1&#x27;, &#x27;sha256&#x27;].</pre>"
      ],
      "text/plain": [
       "<IPython.core.display.HTML object>"
      ]
     },
     "metadata": {},
     "output_type": "display_data"
    },
    {
     "data": {
      "text/html": [
       "<pre style=\"margin: 0.1em;\n",
       "padding-left: 0.25em;\n",
       "border-left-style: solid;\n",
       "font-family: var(--jp-code-font-family);\n",
       "font-size: var(--jp-code-font-size);\n",
       "line-height: var(--jp-code-line-height);\n",
       "\"><span style=\"color: var(--jp-warn-color2)\">botocore.httpchecksum</span> <span style=\"color: var(--jp-info-color0)\">INFO</span>: Skipping checksum validation. Response did not contain one of the following algorithms: [&#x27;crc32&#x27;, &#x27;sha1&#x27;, &#x27;sha256&#x27;].</pre>"
      ],
      "text/plain": [
       "<IPython.core.display.HTML object>"
      ]
     },
     "metadata": {},
     "output_type": "display_data"
    },
    {
     "data": {
      "text/html": [
       "<pre style=\"margin: 0.1em;\n",
       "padding-left: 0.25em;\n",
       "border-left-style: solid;\n",
       "font-family: var(--jp-code-font-family);\n",
       "font-size: var(--jp-code-font-size);\n",
       "line-height: var(--jp-code-line-height);\n",
       "\"><span style=\"color: var(--jp-warn-color2)\">botocore.httpchecksum</span> <span style=\"color: var(--jp-info-color0)\">INFO</span>: Skipping checksum validation. Response did not contain one of the following algorithms: [&#x27;crc32&#x27;, &#x27;sha1&#x27;, &#x27;sha256&#x27;].</pre>"
      ],
      "text/plain": [
       "<IPython.core.display.HTML object>"
      ]
     },
     "metadata": {},
     "output_type": "display_data"
    },
    {
     "data": {
      "text/html": [
       "<pre style=\"margin: 0.1em;\n",
       "padding-left: 0.25em;\n",
       "border-left-style: solid;\n",
       "font-family: var(--jp-code-font-family);\n",
       "font-size: var(--jp-code-font-size);\n",
       "line-height: var(--jp-code-line-height);\n",
       "\"><span style=\"color: var(--jp-warn-color2)\">botocore.httpchecksum</span> <span style=\"color: var(--jp-info-color0)\">INFO</span>: Skipping checksum validation. Response did not contain one of the following algorithms: [&#x27;crc32&#x27;, &#x27;sha1&#x27;, &#x27;sha256&#x27;].</pre>"
      ],
      "text/plain": [
       "<IPython.core.display.HTML object>"
      ]
     },
     "metadata": {},
     "output_type": "display_data"
    },
    {
     "data": {
      "text/html": [
       "<pre style=\"margin: 0.1em;\n",
       "padding-left: 0.25em;\n",
       "border-left-style: solid;\n",
       "font-family: var(--jp-code-font-family);\n",
       "font-size: var(--jp-code-font-size);\n",
       "line-height: var(--jp-code-line-height);\n",
       "\"><span style=\"color: var(--jp-warn-color2)\">botocore.httpchecksum</span> <span style=\"color: var(--jp-info-color0)\">INFO</span>: Skipping checksum validation. Response did not contain one of the following algorithms: [&#x27;crc32&#x27;, &#x27;sha1&#x27;, &#x27;sha256&#x27;].</pre>"
      ],
      "text/plain": [
       "<IPython.core.display.HTML object>"
      ]
     },
     "metadata": {},
     "output_type": "display_data"
    },
    {
     "data": {
      "text/html": [
       "<pre style=\"margin: 0.1em;\n",
       "padding-left: 0.25em;\n",
       "border-left-style: solid;\n",
       "font-family: var(--jp-code-font-family);\n",
       "font-size: var(--jp-code-font-size);\n",
       "line-height: var(--jp-code-line-height);\n",
       "\"><span style=\"color: var(--jp-warn-color2)\">botocore.httpchecksum</span> <span style=\"color: var(--jp-info-color0)\">INFO</span>: Skipping checksum validation. Response did not contain one of the following algorithms: [&#x27;crc32&#x27;, &#x27;sha1&#x27;, &#x27;sha256&#x27;].</pre>"
      ],
      "text/plain": [
       "<IPython.core.display.HTML object>"
      ]
     },
     "metadata": {},
     "output_type": "display_data"
    },
    {
     "data": {
      "text/html": [
       "<pre style=\"margin: 0.1em;\n",
       "padding-left: 0.25em;\n",
       "border-left-style: solid;\n",
       "font-family: var(--jp-code-font-family);\n",
       "font-size: var(--jp-code-font-size);\n",
       "line-height: var(--jp-code-line-height);\n",
       "\"><span style=\"color: var(--jp-warn-color2)\">botocore.httpchecksum</span> <span style=\"color: var(--jp-info-color0)\">INFO</span>: Skipping checksum validation. Response did not contain one of the following algorithms: [&#x27;crc32&#x27;, &#x27;sha1&#x27;, &#x27;sha256&#x27;].</pre>"
      ],
      "text/plain": [
       "<IPython.core.display.HTML object>"
      ]
     },
     "metadata": {},
     "output_type": "display_data"
    },
    {
     "name": "stdout",
     "output_type": "stream",
     "text": [
      "R04 SG1 0 20 12\n",
      "R04 SG1 1 19 12\n",
      "R04 SG1 2 18 12\n",
      "R04 SG1 3 17 12\n",
      "R04 SG1 4 16 12\n",
      "R04 SG1 5 15 12\n",
      "R04 SG1 6 14 12\n",
      "R04 SG1 7 13 12\n",
      "R04 SG1 8 20 11\n",
      "R04 SG1 9 19 11\n",
      "R04 SG1 10 18 11\n",
      "R04 SG1 11 17 11\n",
      "R04 SG1 12 16 11\n",
      "R04 SG1 13 15 11\n",
      "R04 SG1 14 14 11\n",
      "R04 SG1 15 13 11\n"
     ]
    },
    {
     "data": {
      "text/html": [
       "<pre style=\"margin: 0.1em;\n",
       "padding-left: 0.25em;\n",
       "border-left-style: solid;\n",
       "font-family: var(--jp-code-font-family);\n",
       "font-size: var(--jp-code-font-size);\n",
       "line-height: var(--jp-code-line-height);\n",
       "\"><span style=\"color: var(--jp-warn-color2)\">botocore.httpchecksum</span> <span style=\"color: var(--jp-info-color0)\">INFO</span>: Skipping checksum validation. Response did not contain one of the following algorithms: [&#x27;crc32&#x27;, &#x27;sha1&#x27;, &#x27;sha256&#x27;].</pre>"
      ],
      "text/plain": [
       "<IPython.core.display.HTML object>"
      ]
     },
     "metadata": {},
     "output_type": "display_data"
    },
    {
     "data": {
      "text/html": [
       "<pre style=\"margin: 0.1em;\n",
       "padding-left: 0.25em;\n",
       "border-left-style: solid;\n",
       "font-family: var(--jp-code-font-family);\n",
       "font-size: var(--jp-code-font-size);\n",
       "line-height: var(--jp-code-line-height);\n",
       "\"><span style=\"color: var(--jp-warn-color2)\">botocore.httpchecksum</span> <span style=\"color: var(--jp-info-color0)\">INFO</span>: Skipping checksum validation. Response did not contain one of the following algorithms: [&#x27;crc32&#x27;, &#x27;sha1&#x27;, &#x27;sha256&#x27;].</pre>"
      ],
      "text/plain": [
       "<IPython.core.display.HTML object>"
      ]
     },
     "metadata": {},
     "output_type": "display_data"
    },
    {
     "data": {
      "text/html": [
       "<pre style=\"margin: 0.1em;\n",
       "padding-left: 0.25em;\n",
       "border-left-style: solid;\n",
       "font-family: var(--jp-code-font-family);\n",
       "font-size: var(--jp-code-font-size);\n",
       "line-height: var(--jp-code-line-height);\n",
       "\"><span style=\"color: var(--jp-warn-color2)\">botocore.httpchecksum</span> <span style=\"color: var(--jp-info-color0)\">INFO</span>: Skipping checksum validation. Response did not contain one of the following algorithms: [&#x27;crc32&#x27;, &#x27;sha1&#x27;, &#x27;sha256&#x27;].</pre>"
      ],
      "text/plain": [
       "<IPython.core.display.HTML object>"
      ]
     },
     "metadata": {},
     "output_type": "display_data"
    },
    {
     "data": {
      "text/html": [
       "<pre style=\"margin: 0.1em;\n",
       "padding-left: 0.25em;\n",
       "border-left-style: solid;\n",
       "font-family: var(--jp-code-font-family);\n",
       "font-size: var(--jp-code-font-size);\n",
       "line-height: var(--jp-code-line-height);\n",
       "\"><span style=\"color: var(--jp-warn-color2)\">botocore.httpchecksum</span> <span style=\"color: var(--jp-info-color0)\">INFO</span>: Skipping checksum validation. Response did not contain one of the following algorithms: [&#x27;crc32&#x27;, &#x27;sha1&#x27;, &#x27;sha256&#x27;].</pre>"
      ],
      "text/plain": [
       "<IPython.core.display.HTML object>"
      ]
     },
     "metadata": {},
     "output_type": "display_data"
    },
    {
     "data": {
      "text/html": [
       "<pre style=\"margin: 0.1em;\n",
       "padding-left: 0.25em;\n",
       "border-left-style: solid;\n",
       "font-family: var(--jp-code-font-family);\n",
       "font-size: var(--jp-code-font-size);\n",
       "line-height: var(--jp-code-line-height);\n",
       "\"><span style=\"color: var(--jp-warn-color2)\">botocore.httpchecksum</span> <span style=\"color: var(--jp-info-color0)\">INFO</span>: Skipping checksum validation. Response did not contain one of the following algorithms: [&#x27;crc32&#x27;, &#x27;sha1&#x27;, &#x27;sha256&#x27;].</pre>"
      ],
      "text/plain": [
       "<IPython.core.display.HTML object>"
      ]
     },
     "metadata": {},
     "output_type": "display_data"
    },
    {
     "data": {
      "text/html": [
       "<pre style=\"margin: 0.1em;\n",
       "padding-left: 0.25em;\n",
       "border-left-style: solid;\n",
       "font-family: var(--jp-code-font-family);\n",
       "font-size: var(--jp-code-font-size);\n",
       "line-height: var(--jp-code-line-height);\n",
       "\"><span style=\"color: var(--jp-warn-color2)\">botocore.httpchecksum</span> <span style=\"color: var(--jp-info-color0)\">INFO</span>: Skipping checksum validation. Response did not contain one of the following algorithms: [&#x27;crc32&#x27;, &#x27;sha1&#x27;, &#x27;sha256&#x27;].</pre>"
      ],
      "text/plain": [
       "<IPython.core.display.HTML object>"
      ]
     },
     "metadata": {},
     "output_type": "display_data"
    },
    {
     "data": {
      "text/html": [
       "<pre style=\"margin: 0.1em;\n",
       "padding-left: 0.25em;\n",
       "border-left-style: solid;\n",
       "font-family: var(--jp-code-font-family);\n",
       "font-size: var(--jp-code-font-size);\n",
       "line-height: var(--jp-code-line-height);\n",
       "\"><span style=\"color: var(--jp-warn-color2)\">botocore.httpchecksum</span> <span style=\"color: var(--jp-info-color0)\">INFO</span>: Skipping checksum validation. Response did not contain one of the following algorithms: [&#x27;crc32&#x27;, &#x27;sha1&#x27;, &#x27;sha256&#x27;].</pre>"
      ],
      "text/plain": [
       "<IPython.core.display.HTML object>"
      ]
     },
     "metadata": {},
     "output_type": "display_data"
    },
    {
     "data": {
      "text/html": [
       "<pre style=\"margin: 0.1em;\n",
       "padding-left: 0.25em;\n",
       "border-left-style: solid;\n",
       "font-family: var(--jp-code-font-family);\n",
       "font-size: var(--jp-code-font-size);\n",
       "line-height: var(--jp-code-line-height);\n",
       "\"><span style=\"color: var(--jp-warn-color2)\">botocore.httpchecksum</span> <span style=\"color: var(--jp-info-color0)\">INFO</span>: Skipping checksum validation. Response did not contain one of the following algorithms: [&#x27;crc32&#x27;, &#x27;sha1&#x27;, &#x27;sha256&#x27;].</pre>"
      ],
      "text/plain": [
       "<IPython.core.display.HTML object>"
      ]
     },
     "metadata": {},
     "output_type": "display_data"
    },
    {
     "data": {
      "text/html": [
       "<pre style=\"margin: 0.1em;\n",
       "padding-left: 0.25em;\n",
       "border-left-style: solid;\n",
       "font-family: var(--jp-code-font-family);\n",
       "font-size: var(--jp-code-font-size);\n",
       "line-height: var(--jp-code-line-height);\n",
       "\"><span style=\"color: var(--jp-warn-color2)\">botocore.httpchecksum</span> <span style=\"color: var(--jp-info-color0)\">INFO</span>: Skipping checksum validation. Response did not contain one of the following algorithms: [&#x27;crc32&#x27;, &#x27;sha1&#x27;, &#x27;sha256&#x27;].</pre>"
      ],
      "text/plain": [
       "<IPython.core.display.HTML object>"
      ]
     },
     "metadata": {},
     "output_type": "display_data"
    },
    {
     "data": {
      "text/html": [
       "<pre style=\"margin: 0.1em;\n",
       "padding-left: 0.25em;\n",
       "border-left-style: solid;\n",
       "font-family: var(--jp-code-font-family);\n",
       "font-size: var(--jp-code-font-size);\n",
       "line-height: var(--jp-code-line-height);\n",
       "\"><span style=\"color: var(--jp-warn-color2)\">botocore.httpchecksum</span> <span style=\"color: var(--jp-info-color0)\">INFO</span>: Skipping checksum validation. Response did not contain one of the following algorithms: [&#x27;crc32&#x27;, &#x27;sha1&#x27;, &#x27;sha256&#x27;].</pre>"
      ],
      "text/plain": [
       "<IPython.core.display.HTML object>"
      ]
     },
     "metadata": {},
     "output_type": "display_data"
    },
    {
     "name": "stdout",
     "output_type": "stream",
     "text": [
      "R40 SG0 0 9 0\n",
      "R40 SG0 1 9 1\n",
      "R40 SG0 2 9 2\n",
      "R40 SG0 3 9 3\n",
      "R40 SG0 4 9 4\n",
      "R40 SG0 5 9 5\n",
      "R40 SG0 6 9 6\n",
      "R40 SG0 7 9 7\n",
      "R40 SG0 8 8 0\n",
      "R40 SG0 9 8 1\n",
      "R40 SG0 10 8 2\n",
      "R40 SG0 11 8 3\n",
      "R40 SG0 12 8 4\n",
      "R40 SG0 13 8 5\n",
      "R40 SG0 14 8 6\n",
      "R40 SG0 15 8 7\n"
     ]
    },
    {
     "data": {
      "text/html": [
       "<pre style=\"margin: 0.1em;\n",
       "padding-left: 0.25em;\n",
       "border-left-style: solid;\n",
       "font-family: var(--jp-code-font-family);\n",
       "font-size: var(--jp-code-font-size);\n",
       "line-height: var(--jp-code-line-height);\n",
       "\"><span style=\"color: var(--jp-warn-color2)\">botocore.httpchecksum</span> <span style=\"color: var(--jp-info-color0)\">INFO</span>: Skipping checksum validation. Response did not contain one of the following algorithms: [&#x27;crc32&#x27;, &#x27;sha1&#x27;, &#x27;sha256&#x27;].</pre>"
      ],
      "text/plain": [
       "<IPython.core.display.HTML object>"
      ]
     },
     "metadata": {},
     "output_type": "display_data"
    },
    {
     "data": {
      "text/html": [
       "<pre style=\"margin: 0.1em;\n",
       "padding-left: 0.25em;\n",
       "border-left-style: solid;\n",
       "font-family: var(--jp-code-font-family);\n",
       "font-size: var(--jp-code-font-size);\n",
       "line-height: var(--jp-code-line-height);\n",
       "\"><span style=\"color: var(--jp-warn-color2)\">botocore.httpchecksum</span> <span style=\"color: var(--jp-info-color0)\">INFO</span>: Skipping checksum validation. Response did not contain one of the following algorithms: [&#x27;crc32&#x27;, &#x27;sha1&#x27;, &#x27;sha256&#x27;].</pre>"
      ],
      "text/plain": [
       "<IPython.core.display.HTML object>"
      ]
     },
     "metadata": {},
     "output_type": "display_data"
    },
    {
     "data": {
      "text/html": [
       "<pre style=\"margin: 0.1em;\n",
       "padding-left: 0.25em;\n",
       "border-left-style: solid;\n",
       "font-family: var(--jp-code-font-family);\n",
       "font-size: var(--jp-code-font-size);\n",
       "line-height: var(--jp-code-line-height);\n",
       "\"><span style=\"color: var(--jp-warn-color2)\">botocore.httpchecksum</span> <span style=\"color: var(--jp-info-color0)\">INFO</span>: Skipping checksum validation. Response did not contain one of the following algorithms: [&#x27;crc32&#x27;, &#x27;sha1&#x27;, &#x27;sha256&#x27;].</pre>"
      ],
      "text/plain": [
       "<IPython.core.display.HTML object>"
      ]
     },
     "metadata": {},
     "output_type": "display_data"
    },
    {
     "data": {
      "text/html": [
       "<pre style=\"margin: 0.1em;\n",
       "padding-left: 0.25em;\n",
       "border-left-style: solid;\n",
       "font-family: var(--jp-code-font-family);\n",
       "font-size: var(--jp-code-font-size);\n",
       "line-height: var(--jp-code-line-height);\n",
       "\"><span style=\"color: var(--jp-warn-color2)\">botocore.httpchecksum</span> <span style=\"color: var(--jp-info-color0)\">INFO</span>: Skipping checksum validation. Response did not contain one of the following algorithms: [&#x27;crc32&#x27;, &#x27;sha1&#x27;, &#x27;sha256&#x27;].</pre>"
      ],
      "text/plain": [
       "<IPython.core.display.HTML object>"
      ]
     },
     "metadata": {},
     "output_type": "display_data"
    },
    {
     "data": {
      "text/html": [
       "<pre style=\"margin: 0.1em;\n",
       "padding-left: 0.25em;\n",
       "border-left-style: solid;\n",
       "font-family: var(--jp-code-font-family);\n",
       "font-size: var(--jp-code-font-size);\n",
       "line-height: var(--jp-code-line-height);\n",
       "\"><span style=\"color: var(--jp-warn-color2)\">botocore.httpchecksum</span> <span style=\"color: var(--jp-info-color0)\">INFO</span>: Skipping checksum validation. Response did not contain one of the following algorithms: [&#x27;crc32&#x27;, &#x27;sha1&#x27;, &#x27;sha256&#x27;].</pre>"
      ],
      "text/plain": [
       "<IPython.core.display.HTML object>"
      ]
     },
     "metadata": {},
     "output_type": "display_data"
    },
    {
     "data": {
      "text/html": [
       "<pre style=\"margin: 0.1em;\n",
       "padding-left: 0.25em;\n",
       "border-left-style: solid;\n",
       "font-family: var(--jp-code-font-family);\n",
       "font-size: var(--jp-code-font-size);\n",
       "line-height: var(--jp-code-line-height);\n",
       "\"><span style=\"color: var(--jp-warn-color2)\">botocore.httpchecksum</span> <span style=\"color: var(--jp-info-color0)\">INFO</span>: Skipping checksum validation. Response did not contain one of the following algorithms: [&#x27;crc32&#x27;, &#x27;sha1&#x27;, &#x27;sha256&#x27;].</pre>"
      ],
      "text/plain": [
       "<IPython.core.display.HTML object>"
      ]
     },
     "metadata": {},
     "output_type": "display_data"
    },
    {
     "data": {
      "text/html": [
       "<pre style=\"margin: 0.1em;\n",
       "padding-left: 0.25em;\n",
       "border-left-style: solid;\n",
       "font-family: var(--jp-code-font-family);\n",
       "font-size: var(--jp-code-font-size);\n",
       "line-height: var(--jp-code-line-height);\n",
       "\"><span style=\"color: var(--jp-warn-color2)\">botocore.httpchecksum</span> <span style=\"color: var(--jp-info-color0)\">INFO</span>: Skipping checksum validation. Response did not contain one of the following algorithms: [&#x27;crc32&#x27;, &#x27;sha1&#x27;, &#x27;sha256&#x27;].</pre>"
      ],
      "text/plain": [
       "<IPython.core.display.HTML object>"
      ]
     },
     "metadata": {},
     "output_type": "display_data"
    },
    {
     "data": {
      "text/html": [
       "<pre style=\"margin: 0.1em;\n",
       "padding-left: 0.25em;\n",
       "border-left-style: solid;\n",
       "font-family: var(--jp-code-font-family);\n",
       "font-size: var(--jp-code-font-size);\n",
       "line-height: var(--jp-code-line-height);\n",
       "\"><span style=\"color: var(--jp-warn-color2)\">botocore.httpchecksum</span> <span style=\"color: var(--jp-info-color0)\">INFO</span>: Skipping checksum validation. Response did not contain one of the following algorithms: [&#x27;crc32&#x27;, &#x27;sha1&#x27;, &#x27;sha256&#x27;].</pre>"
      ],
      "text/plain": [
       "<IPython.core.display.HTML object>"
      ]
     },
     "metadata": {},
     "output_type": "display_data"
    },
    {
     "data": {
      "text/html": [
       "<pre style=\"margin: 0.1em;\n",
       "padding-left: 0.25em;\n",
       "border-left-style: solid;\n",
       "font-family: var(--jp-code-font-family);\n",
       "font-size: var(--jp-code-font-size);\n",
       "line-height: var(--jp-code-line-height);\n",
       "\"><span style=\"color: var(--jp-warn-color2)\">botocore.httpchecksum</span> <span style=\"color: var(--jp-info-color0)\">INFO</span>: Skipping checksum validation. Response did not contain one of the following algorithms: [&#x27;crc32&#x27;, &#x27;sha1&#x27;, &#x27;sha256&#x27;].</pre>"
      ],
      "text/plain": [
       "<IPython.core.display.HTML object>"
      ]
     },
     "metadata": {},
     "output_type": "display_data"
    },
    {
     "data": {
      "text/html": [
       "<pre style=\"margin: 0.1em;\n",
       "padding-left: 0.25em;\n",
       "border-left-style: solid;\n",
       "font-family: var(--jp-code-font-family);\n",
       "font-size: var(--jp-code-font-size);\n",
       "line-height: var(--jp-code-line-height);\n",
       "\"><span style=\"color: var(--jp-warn-color2)\">botocore.httpchecksum</span> <span style=\"color: var(--jp-info-color0)\">INFO</span>: Skipping checksum validation. Response did not contain one of the following algorithms: [&#x27;crc32&#x27;, &#x27;sha1&#x27;, &#x27;sha256&#x27;].</pre>"
      ],
      "text/plain": [
       "<IPython.core.display.HTML object>"
      ]
     },
     "metadata": {},
     "output_type": "display_data"
    },
    {
     "name": "stdout",
     "output_type": "stream",
     "text": [
      "R40 SG1 0 0 8\n",
      "R40 SG1 1 1 8\n",
      "R40 SG1 2 2 8\n",
      "R40 SG1 3 3 8\n",
      "R40 SG1 4 4 8\n",
      "R40 SG1 5 5 8\n",
      "R40 SG1 6 6 8\n",
      "R40 SG1 7 7 8\n",
      "R40 SG1 8 0 9\n",
      "R40 SG1 9 1 9\n",
      "R40 SG1 10 2 9\n",
      "R40 SG1 11 3 9\n",
      "R40 SG1 12 4 9\n",
      "R40 SG1 13 5 9\n",
      "R40 SG1 14 6 9\n",
      "R40 SG1 15 7 9\n"
     ]
    },
    {
     "data": {
      "text/html": [
       "<pre style=\"margin: 0.1em;\n",
       "padding-left: 0.25em;\n",
       "border-left-style: solid;\n",
       "font-family: var(--jp-code-font-family);\n",
       "font-size: var(--jp-code-font-size);\n",
       "line-height: var(--jp-code-line-height);\n",
       "\"><span style=\"color: var(--jp-warn-color2)\">botocore.httpchecksum</span> <span style=\"color: var(--jp-info-color0)\">INFO</span>: Skipping checksum validation. Response did not contain one of the following algorithms: [&#x27;crc32&#x27;, &#x27;sha1&#x27;, &#x27;sha256&#x27;].</pre>"
      ],
      "text/plain": [
       "<IPython.core.display.HTML object>"
      ]
     },
     "metadata": {},
     "output_type": "display_data"
    },
    {
     "data": {
      "text/html": [
       "<pre style=\"margin: 0.1em;\n",
       "padding-left: 0.25em;\n",
       "border-left-style: solid;\n",
       "font-family: var(--jp-code-font-family);\n",
       "font-size: var(--jp-code-font-size);\n",
       "line-height: var(--jp-code-line-height);\n",
       "\"><span style=\"color: var(--jp-warn-color2)\">botocore.httpchecksum</span> <span style=\"color: var(--jp-info-color0)\">INFO</span>: Skipping checksum validation. Response did not contain one of the following algorithms: [&#x27;crc32&#x27;, &#x27;sha1&#x27;, &#x27;sha256&#x27;].</pre>"
      ],
      "text/plain": [
       "<IPython.core.display.HTML object>"
      ]
     },
     "metadata": {},
     "output_type": "display_data"
    },
    {
     "data": {
      "text/html": [
       "<pre style=\"margin: 0.1em;\n",
       "padding-left: 0.25em;\n",
       "border-left-style: solid;\n",
       "font-family: var(--jp-code-font-family);\n",
       "font-size: var(--jp-code-font-size);\n",
       "line-height: var(--jp-code-line-height);\n",
       "\"><span style=\"color: var(--jp-warn-color2)\">botocore.httpchecksum</span> <span style=\"color: var(--jp-info-color0)\">INFO</span>: Skipping checksum validation. Response did not contain one of the following algorithms: [&#x27;crc32&#x27;, &#x27;sha1&#x27;, &#x27;sha256&#x27;].</pre>"
      ],
      "text/plain": [
       "<IPython.core.display.HTML object>"
      ]
     },
     "metadata": {},
     "output_type": "display_data"
    },
    {
     "data": {
      "text/html": [
       "<pre style=\"margin: 0.1em;\n",
       "padding-left: 0.25em;\n",
       "border-left-style: solid;\n",
       "font-family: var(--jp-code-font-family);\n",
       "font-size: var(--jp-code-font-size);\n",
       "line-height: var(--jp-code-line-height);\n",
       "\"><span style=\"color: var(--jp-warn-color2)\">botocore.httpchecksum</span> <span style=\"color: var(--jp-info-color0)\">INFO</span>: Skipping checksum validation. Response did not contain one of the following algorithms: [&#x27;crc32&#x27;, &#x27;sha1&#x27;, &#x27;sha256&#x27;].</pre>"
      ],
      "text/plain": [
       "<IPython.core.display.HTML object>"
      ]
     },
     "metadata": {},
     "output_type": "display_data"
    },
    {
     "data": {
      "text/html": [
       "<pre style=\"margin: 0.1em;\n",
       "padding-left: 0.25em;\n",
       "border-left-style: solid;\n",
       "font-family: var(--jp-code-font-family);\n",
       "font-size: var(--jp-code-font-size);\n",
       "line-height: var(--jp-code-line-height);\n",
       "\"><span style=\"color: var(--jp-warn-color2)\">botocore.httpchecksum</span> <span style=\"color: var(--jp-info-color0)\">INFO</span>: Skipping checksum validation. Response did not contain one of the following algorithms: [&#x27;crc32&#x27;, &#x27;sha1&#x27;, &#x27;sha256&#x27;].</pre>"
      ],
      "text/plain": [
       "<IPython.core.display.HTML object>"
      ]
     },
     "metadata": {},
     "output_type": "display_data"
    },
    {
     "data": {
      "text/html": [
       "<pre style=\"margin: 0.1em;\n",
       "padding-left: 0.25em;\n",
       "border-left-style: solid;\n",
       "font-family: var(--jp-code-font-family);\n",
       "font-size: var(--jp-code-font-size);\n",
       "line-height: var(--jp-code-line-height);\n",
       "\"><span style=\"color: var(--jp-warn-color2)\">botocore.httpchecksum</span> <span style=\"color: var(--jp-info-color0)\">INFO</span>: Skipping checksum validation. Response did not contain one of the following algorithms: [&#x27;crc32&#x27;, &#x27;sha1&#x27;, &#x27;sha256&#x27;].</pre>"
      ],
      "text/plain": [
       "<IPython.core.display.HTML object>"
      ]
     },
     "metadata": {},
     "output_type": "display_data"
    },
    {
     "data": {
      "text/html": [
       "<pre style=\"margin: 0.1em;\n",
       "padding-left: 0.25em;\n",
       "border-left-style: solid;\n",
       "font-family: var(--jp-code-font-family);\n",
       "font-size: var(--jp-code-font-size);\n",
       "line-height: var(--jp-code-line-height);\n",
       "\"><span style=\"color: var(--jp-warn-color2)\">botocore.httpchecksum</span> <span style=\"color: var(--jp-info-color0)\">INFO</span>: Skipping checksum validation. Response did not contain one of the following algorithms: [&#x27;crc32&#x27;, &#x27;sha1&#x27;, &#x27;sha256&#x27;].</pre>"
      ],
      "text/plain": [
       "<IPython.core.display.HTML object>"
      ]
     },
     "metadata": {},
     "output_type": "display_data"
    },
    {
     "data": {
      "text/html": [
       "<pre style=\"margin: 0.1em;\n",
       "padding-left: 0.25em;\n",
       "border-left-style: solid;\n",
       "font-family: var(--jp-code-font-family);\n",
       "font-size: var(--jp-code-font-size);\n",
       "line-height: var(--jp-code-line-height);\n",
       "\"><span style=\"color: var(--jp-warn-color2)\">botocore.httpchecksum</span> <span style=\"color: var(--jp-info-color0)\">INFO</span>: Skipping checksum validation. Response did not contain one of the following algorithms: [&#x27;crc32&#x27;, &#x27;sha1&#x27;, &#x27;sha256&#x27;].</pre>"
      ],
      "text/plain": [
       "<IPython.core.display.HTML object>"
      ]
     },
     "metadata": {},
     "output_type": "display_data"
    },
    {
     "data": {
      "text/html": [
       "<pre style=\"margin: 0.1em;\n",
       "padding-left: 0.25em;\n",
       "border-left-style: solid;\n",
       "font-family: var(--jp-code-font-family);\n",
       "font-size: var(--jp-code-font-size);\n",
       "line-height: var(--jp-code-line-height);\n",
       "\"><span style=\"color: var(--jp-warn-color2)\">botocore.httpchecksum</span> <span style=\"color: var(--jp-info-color0)\">INFO</span>: Skipping checksum validation. Response did not contain one of the following algorithms: [&#x27;crc32&#x27;, &#x27;sha1&#x27;, &#x27;sha256&#x27;].</pre>"
      ],
      "text/plain": [
       "<IPython.core.display.HTML object>"
      ]
     },
     "metadata": {},
     "output_type": "display_data"
    },
    {
     "data": {
      "text/html": [
       "<pre style=\"margin: 0.1em;\n",
       "padding-left: 0.25em;\n",
       "border-left-style: solid;\n",
       "font-family: var(--jp-code-font-family);\n",
       "font-size: var(--jp-code-font-size);\n",
       "line-height: var(--jp-code-line-height);\n",
       "\"><span style=\"color: var(--jp-warn-color2)\">botocore.httpchecksum</span> <span style=\"color: var(--jp-info-color0)\">INFO</span>: Skipping checksum validation. Response did not contain one of the following algorithms: [&#x27;crc32&#x27;, &#x27;sha1&#x27;, &#x27;sha256&#x27;].</pre>"
      ],
      "text/plain": [
       "<IPython.core.display.HTML object>"
      ]
     },
     "metadata": {},
     "output_type": "display_data"
    },
    {
     "name": "stdout",
     "output_type": "stream",
     "text": [
      "R44 SG0 0 0 11\n",
      "R44 SG0 1 1 11\n",
      "R44 SG0 2 2 11\n",
      "R44 SG0 3 3 11\n",
      "R44 SG0 4 4 11\n",
      "R44 SG0 5 5 11\n",
      "R44 SG0 6 6 11\n",
      "R44 SG0 7 7 11\n",
      "R44 SG0 8 0 12\n",
      "R44 SG0 9 1 12\n",
      "R44 SG0 10 2 12\n",
      "R44 SG0 11 3 12\n",
      "R44 SG0 12 4 12\n",
      "R44 SG0 13 5 12\n",
      "R44 SG0 14 6 12\n",
      "R44 SG0 15 7 12\n"
     ]
    },
    {
     "data": {
      "text/html": [
       "<pre style=\"margin: 0.1em;\n",
       "padding-left: 0.25em;\n",
       "border-left-style: solid;\n",
       "font-family: var(--jp-code-font-family);\n",
       "font-size: var(--jp-code-font-size);\n",
       "line-height: var(--jp-code-line-height);\n",
       "\"><span style=\"color: var(--jp-warn-color2)\">botocore.httpchecksum</span> <span style=\"color: var(--jp-info-color0)\">INFO</span>: Skipping checksum validation. Response did not contain one of the following algorithms: [&#x27;crc32&#x27;, &#x27;sha1&#x27;, &#x27;sha256&#x27;].</pre>"
      ],
      "text/plain": [
       "<IPython.core.display.HTML object>"
      ]
     },
     "metadata": {},
     "output_type": "display_data"
    },
    {
     "data": {
      "text/html": [
       "<pre style=\"margin: 0.1em;\n",
       "padding-left: 0.25em;\n",
       "border-left-style: solid;\n",
       "font-family: var(--jp-code-font-family);\n",
       "font-size: var(--jp-code-font-size);\n",
       "line-height: var(--jp-code-line-height);\n",
       "\"><span style=\"color: var(--jp-warn-color2)\">botocore.httpchecksum</span> <span style=\"color: var(--jp-info-color0)\">INFO</span>: Skipping checksum validation. Response did not contain one of the following algorithms: [&#x27;crc32&#x27;, &#x27;sha1&#x27;, &#x27;sha256&#x27;].</pre>"
      ],
      "text/plain": [
       "<IPython.core.display.HTML object>"
      ]
     },
     "metadata": {},
     "output_type": "display_data"
    },
    {
     "data": {
      "text/html": [
       "<pre style=\"margin: 0.1em;\n",
       "padding-left: 0.25em;\n",
       "border-left-style: solid;\n",
       "font-family: var(--jp-code-font-family);\n",
       "font-size: var(--jp-code-font-size);\n",
       "line-height: var(--jp-code-line-height);\n",
       "\"><span style=\"color: var(--jp-warn-color2)\">botocore.httpchecksum</span> <span style=\"color: var(--jp-info-color0)\">INFO</span>: Skipping checksum validation. Response did not contain one of the following algorithms: [&#x27;crc32&#x27;, &#x27;sha1&#x27;, &#x27;sha256&#x27;].</pre>"
      ],
      "text/plain": [
       "<IPython.core.display.HTML object>"
      ]
     },
     "metadata": {},
     "output_type": "display_data"
    },
    {
     "data": {
      "text/html": [
       "<pre style=\"margin: 0.1em;\n",
       "padding-left: 0.25em;\n",
       "border-left-style: solid;\n",
       "font-family: var(--jp-code-font-family);\n",
       "font-size: var(--jp-code-font-size);\n",
       "line-height: var(--jp-code-line-height);\n",
       "\"><span style=\"color: var(--jp-warn-color2)\">botocore.httpchecksum</span> <span style=\"color: var(--jp-info-color0)\">INFO</span>: Skipping checksum validation. Response did not contain one of the following algorithms: [&#x27;crc32&#x27;, &#x27;sha1&#x27;, &#x27;sha256&#x27;].</pre>"
      ],
      "text/plain": [
       "<IPython.core.display.HTML object>"
      ]
     },
     "metadata": {},
     "output_type": "display_data"
    },
    {
     "data": {
      "text/html": [
       "<pre style=\"margin: 0.1em;\n",
       "padding-left: 0.25em;\n",
       "border-left-style: solid;\n",
       "font-family: var(--jp-code-font-family);\n",
       "font-size: var(--jp-code-font-size);\n",
       "line-height: var(--jp-code-line-height);\n",
       "\"><span style=\"color: var(--jp-warn-color2)\">botocore.httpchecksum</span> <span style=\"color: var(--jp-info-color0)\">INFO</span>: Skipping checksum validation. Response did not contain one of the following algorithms: [&#x27;crc32&#x27;, &#x27;sha1&#x27;, &#x27;sha256&#x27;].</pre>"
      ],
      "text/plain": [
       "<IPython.core.display.HTML object>"
      ]
     },
     "metadata": {},
     "output_type": "display_data"
    },
    {
     "data": {
      "text/html": [
       "<pre style=\"margin: 0.1em;\n",
       "padding-left: 0.25em;\n",
       "border-left-style: solid;\n",
       "font-family: var(--jp-code-font-family);\n",
       "font-size: var(--jp-code-font-size);\n",
       "line-height: var(--jp-code-line-height);\n",
       "\"><span style=\"color: var(--jp-warn-color2)\">botocore.httpchecksum</span> <span style=\"color: var(--jp-info-color0)\">INFO</span>: Skipping checksum validation. Response did not contain one of the following algorithms: [&#x27;crc32&#x27;, &#x27;sha1&#x27;, &#x27;sha256&#x27;].</pre>"
      ],
      "text/plain": [
       "<IPython.core.display.HTML object>"
      ]
     },
     "metadata": {},
     "output_type": "display_data"
    },
    {
     "data": {
      "text/html": [
       "<pre style=\"margin: 0.1em;\n",
       "padding-left: 0.25em;\n",
       "border-left-style: solid;\n",
       "font-family: var(--jp-code-font-family);\n",
       "font-size: var(--jp-code-font-size);\n",
       "line-height: var(--jp-code-line-height);\n",
       "\"><span style=\"color: var(--jp-warn-color2)\">botocore.httpchecksum</span> <span style=\"color: var(--jp-info-color0)\">INFO</span>: Skipping checksum validation. Response did not contain one of the following algorithms: [&#x27;crc32&#x27;, &#x27;sha1&#x27;, &#x27;sha256&#x27;].</pre>"
      ],
      "text/plain": [
       "<IPython.core.display.HTML object>"
      ]
     },
     "metadata": {},
     "output_type": "display_data"
    },
    {
     "data": {
      "text/html": [
       "<pre style=\"margin: 0.1em;\n",
       "padding-left: 0.25em;\n",
       "border-left-style: solid;\n",
       "font-family: var(--jp-code-font-family);\n",
       "font-size: var(--jp-code-font-size);\n",
       "line-height: var(--jp-code-line-height);\n",
       "\"><span style=\"color: var(--jp-warn-color2)\">botocore.httpchecksum</span> <span style=\"color: var(--jp-info-color0)\">INFO</span>: Skipping checksum validation. Response did not contain one of the following algorithms: [&#x27;crc32&#x27;, &#x27;sha1&#x27;, &#x27;sha256&#x27;].</pre>"
      ],
      "text/plain": [
       "<IPython.core.display.HTML object>"
      ]
     },
     "metadata": {},
     "output_type": "display_data"
    },
    {
     "data": {
      "text/html": [
       "<pre style=\"margin: 0.1em;\n",
       "padding-left: 0.25em;\n",
       "border-left-style: solid;\n",
       "font-family: var(--jp-code-font-family);\n",
       "font-size: var(--jp-code-font-size);\n",
       "line-height: var(--jp-code-line-height);\n",
       "\"><span style=\"color: var(--jp-warn-color2)\">botocore.httpchecksum</span> <span style=\"color: var(--jp-info-color0)\">INFO</span>: Skipping checksum validation. Response did not contain one of the following algorithms: [&#x27;crc32&#x27;, &#x27;sha1&#x27;, &#x27;sha256&#x27;].</pre>"
      ],
      "text/plain": [
       "<IPython.core.display.HTML object>"
      ]
     },
     "metadata": {},
     "output_type": "display_data"
    },
    {
     "data": {
      "text/html": [
       "<pre style=\"margin: 0.1em;\n",
       "padding-left: 0.25em;\n",
       "border-left-style: solid;\n",
       "font-family: var(--jp-code-font-family);\n",
       "font-size: var(--jp-code-font-size);\n",
       "line-height: var(--jp-code-line-height);\n",
       "\"><span style=\"color: var(--jp-warn-color2)\">botocore.httpchecksum</span> <span style=\"color: var(--jp-info-color0)\">INFO</span>: Skipping checksum validation. Response did not contain one of the following algorithms: [&#x27;crc32&#x27;, &#x27;sha1&#x27;, &#x27;sha256&#x27;].</pre>"
      ],
      "text/plain": [
       "<IPython.core.display.HTML object>"
      ]
     },
     "metadata": {},
     "output_type": "display_data"
    },
    {
     "name": "stdout",
     "output_type": "stream",
     "text": [
      "R44 SG1 0 8 20\n",
      "R44 SG1 1 8 19\n",
      "R44 SG1 2 8 18\n",
      "R44 SG1 3 8 17\n",
      "R44 SG1 4 8 16\n",
      "R44 SG1 5 8 15\n",
      "R44 SG1 6 8 14\n",
      "R44 SG1 7 8 13\n",
      "R44 SG1 8 9 20\n",
      "R44 SG1 9 9 19\n",
      "R44 SG1 10 9 18\n",
      "R44 SG1 11 9 17\n",
      "R44 SG1 12 9 16\n",
      "R44 SG1 13 9 15\n",
      "R44 SG1 14 9 14\n",
      "R44 SG1 15 9 13\n",
      "Done building frames\n"
     ]
    },
    {
     "data": {
      "text/plain": [
       "<Figure size 1000x1000 with 0 Axes>"
      ]
     },
     "metadata": {},
     "output_type": "display_data"
    }
   ],
   "source": [
    "expId = int(f\"{dayObs}{seqNum:05d}\")\n",
    "\n",
    "# Get one CCD to know nStamps\n",
    "raft = 'R00'\n",
    "ccd = 'SG0'\n",
    "filename = f\"s3://embargo@rubin-summit/LSSTCam/{dayObs}/MC_O_{dayObs}_{seqNum:06d}/MC_O_{dayObs}_{seqNum:06d}_{raft}_{ccd}_guider.fits\"\n",
    "\n",
    "rp = ResourcePath(filename)\n",
    "with rp.open(mode=\"rb\") as f:\n",
    "    hdu_list = fits.open(f)\n",
    "[roiRows, roiCols, roiUnder, nStamps, xor] = getMainHeaderInfo(hdu_list)\n",
    "\n",
    "# This defines the plot locations for the 8 CCDs\n",
    "# Each entry is [raft, ccd, i0, j0, di, dj, rot]\n",
    "config = [['R00', 'SG0', 20, 9, -1, -1, True], ['R00', 'SG1', 12, 0, -1, 1, False], \n",
    "          ['R04', 'SG0', 11, 20, 1, -1, False], ['R04', 'SG1', 20, 12, -1, -1, True], \n",
    "          ['R40', 'SG0', 9, 0, -1, 1, False], ['R40', 'SG1', 0, 8, 1, 1, True],\n",
    "          ['R44', 'SG0', 0, 11, 1, 1, True], ['R44', 'SG1', 8, 20, 1, -1, False]]\n",
    "\n",
    "# dirName = f\"/home/c/cslage/u/Guider_Mode/LSSTCam_movie_{expId}\"\n",
    "# %mkdir -p {dirName}\n",
    "movieName = f\"Guider_{expId}.mp4\"\n",
    "print(movieName)\n",
    "# Build the individual frames\n",
    "imArray = []\n",
    "fig = plt.figure(figsize=(10,10))\n",
    "for n in range(1, nStamps+1):\n",
    "    axs = fig.subplots(21,21)\n",
    "    plt.subplots_adjust(wspace=0.1, hspace=0.1)\n",
    "    # Clear the axes and plot frames\n",
    "    for i in range(21):\n",
    "        for j in range(21):\n",
    "            axs[i][j].axis('off')\n",
    "            axs[i][j].set_xticks([])\n",
    "            axs[i][j].set_yticks([])\n",
    "    for [raft, ccd, i0, j0, di, dj, rot] in config:\n",
    "        filename = f\"s3://embargo@rubin-summit/LSSTCam/{dayObs}/MC_O_{dayObs}_{seqNum:06d}/MC_O_{dayObs}_{seqNum:06d}_{raft}_{ccd}_guider.fits\"\n",
    "        \n",
    "        rp = ResourcePath(filename)\n",
    "        with rp.open(mode=\"rb\") as f:\n",
    "            hdu_list = fits.open(f)\n",
    "        [roiRows, roiCols, roiUnder, nStamps, xor] = getMainHeaderInfo(hdu_list)\n",
    "        hduNum = 2 * n + 1\n",
    "        hdrn = hdu_list[hduNum].header\n",
    "        timestamp = hdrn['STMPTIME']\n",
    "        image_out = unpackStamps(hduNum)\n",
    "        i = i0; j = j0\n",
    "        # Set the CCD titles\n",
    "        if rot:\n",
    "            if dj < 0:\n",
    "                axs[i0 + 3 * di][j0 - 1].set_title(f\"{raft}_{ccd}\", fontsize=12, rotation='vertical',x=-0.3,y=0.5)\n",
    "            else:\n",
    "                axs[i0 + 3 * di][j0].set_title(f\"{raft}_{ccd}\", fontsize=12, rotation='vertical',x=-0.4,y=-0.5)\n",
    "        else:\n",
    "            if di < 0:\n",
    "                axs[i0 - 1][j0 + 3 * dj].set_title(f\"{raft}_{ccd}\", fontsize=12, loc='center')\n",
    "            else:\n",
    "                axs[i0][j0 + 3 * dj].set_title(f\"{raft}_{ccd}\", fontsize=12, loc='center')\n",
    "        # Now plot the data\n",
    "        for seg in range(16):\n",
    "            print(raft, ccd, seg, i, j)\n",
    "            arr = image_out[seg]\n",
    "            if rot:\n",
    "                arr = np.transpose(arr)\n",
    "            if autoscale:\n",
    "                im = axs[i][j].imshow(arr, interpolation='nearest', origin='upper', cmap='Greys')\n",
    "            else:\n",
    "                med = np.nanmedian(image_out[seg])\n",
    "                vmin = med - 20\n",
    "                vmax = med + 20\n",
    "                im = axs[i][j].imshow(arr, interpolation='nearest', origin='upper', vmin=vmin, vmax=vmax, cmap='Greys')\n",
    "            #axs[i][j].text(roiRows/2.0, roiCols/2.0,f\"{seg}\") # For segment check\n",
    "            if rot:\n",
    "                if seg == 7:\n",
    "                    j += dj\n",
    "                    i = i0\n",
    "                else:\n",
    "                    i += di\n",
    "            else:\n",
    "                if seg == 7:\n",
    "                    i += di\n",
    "                    j = j0\n",
    "                else:\n",
    "                    j += dj\n",
    "    plt.suptitle(f\"Guider mode {expId}, \\n Frame {n+1} {timestamp}\", fontsize=18) \n",
    "    imArray.append(fig) # Append something here\n",
    "    # plt.savefig(f\"{dirName}/Frame_{n:03d}.png\")\n",
    "    plt.clf()\n",
    "    if n % 10 == 0:\n",
    "        print(f\"Finished frame {n}\")\n",
    "print(\"Done building frames\")"
   ]
  },
  {
   "cell_type": "code",
   "execution_count": null,
   "id": "e15549a8-57e3-4ad2-b44e-0ed1fe77ffdc",
   "metadata": {},
   "outputs": [],
   "source": [
    "ani = animation.ArtistAnimation(fig=fig, artists=imArray, interval=400)\n",
    "plt.show()"
   ]
  },
  {
   "cell_type": "code",
   "execution_count": null,
   "id": "14b37f24-a483-44b8-8b6e-86d1b553fb06",
   "metadata": {},
   "outputs": [],
   "source": [
    "# print(f\"\\033[1mThe movie name will be: {dirName}/{movieName}\\033[0m\")\n",
    "\n",
    "# command = f\"ffmpeg -pattern_type glob -i '{dirName}/*.png' -f mp4 -vcodec libx264 -pix_fmt yuv420p -framerate 50 -y {dirName}/{movieName}\"\n",
    "# args = shlex.split(command)\n",
    "# build_movie = subprocess.Popen(args)\n",
    "# build_movie.wait()"
   ]
  },
  {
   "cell_type": "code",
   "execution_count": null,
   "id": "ed538e80-c383-47ae-a057-fe0aebce0639",
   "metadata": {},
   "outputs": [],
   "source": []
  }
 ],
 "metadata": {
  "kernelspec": {
   "display_name": "LSST",
   "language": "python",
   "name": "lsst"
  },
  "language_info": {
   "codemirror_mode": {
    "name": "ipython",
    "version": 3
   },
   "file_extension": ".py",
   "mimetype": "text/x-python",
   "name": "python",
   "nbconvert_exporter": "python",
   "pygments_lexer": "ipython3",
   "version": "3.12.9"
  }
 },
 "nbformat": 4,
 "nbformat_minor": 5
}
